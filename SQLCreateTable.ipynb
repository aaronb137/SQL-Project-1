{
    "metadata": {
        "kernelspec": {
            "name": "SQL",
            "display_name": "SQL",
            "language": "sql"
        },
        "language_info": {
            "name": "sql",
            "version": ""
        }
    },
    "nbformat_minor": 2,
    "nbformat": 4,
    "cells": [
        {
            "cell_type": "markdown",
            "source": [
                "To populate my tables, I used the SQL Management Studio Import/Export Wizard to import the data from the given Excel file."
            ],
            "metadata": {
                "language": "sql",
                "azdata_cell_guid": "95c3ca7c-9fc5-432b-8075-571c1a5c5f09"
            },
            "attachments": {}
        },
        {
            "cell_type": "code",
            "source": [
                "CREATE TABLE TblCustomer\r\n",
                "(\r\n",
                "    CustomerID CHAR(5) PRIMARY KEY NOT NULL,\r\n",
                "    LastName VARCHAR(30) NOT NULL,\r\n",
                "    FirstName VARCHAR(20) NULL,\r\n",
                "    Address VARCHAR(30) NOT NULL,\r\n",
                "    City VARCHAR(20) NOT NULL,\r\n",
                "    State CHAR(2) NOT NULL,\r\n",
                "    Zip VARCHAR(12) NOT NULL,\r\n",
                "    Country VARCHAR(15) NULL,\r\n",
                "    FirstBuyDate DATETIME NULL,\r\n",
                "    Email VARCHAR(60) NULL,\r\n",
                "    Phone CHAR(15) NOT NULL\r\n",
                ")\r\n",
                "\r\n",
                "CREATE TABLE tblEmployee\r\n",
                "(\r\n",
                "    EmpID CHAR(6) PRIMARY KEY NOT NULL,\r\n",
                "    EmpLastName VARCHAR(30) NOT NULL,\r\n",
                "    EmpFirstName VARCHAR(30) NOT NULL,\r\n",
                "    EmpEmail VARCHAR(30),\r\n",
                "    EmpPhone CHAR(15) NOT NULL,\r\n",
                "    EmpMgrID CHAR(6) FOREIGN KEY REFERENCES tblEmployee(EmpID),\r\n",
                ")\r\n",
                "\r\n",
                "CREATE TABLE TblShipAddress\r\n",
                "(\r\n",
                "    AddressID INT PRIMARY KEY NOT NULL,\r\n",
                "    ShipName VARCHAR(30) NULL,\r\n",
                "    ShipAddress VARCHAR(30) NULL,\r\n",
                "    ShipPostalCode VARCHAR(20) NULL,\r\n",
                "    ShipCountry VARCHAR(30) NULL,\r\n",
                "    ShipPhone CHAR(15) NULL,\r\n",
                ")\r\n",
                "\r\n",
                "CREATE TABLE TblOrder\r\n",
                "(\r\n",
                "    OrderID CHAR(6) PRIMARY KEY NOT NULL,\r\n",
                "    OrderDate DATETIME NOT NULL,\r\n",
                "    DiscountCode CHAR(2) \r\n",
                "    CHECK(\r\n",
                "        DiscountCode='02' OR \r\n",
                "        DiscountCode='03' OR \r\n",
                "        DiscountCode='04' OR \r\n",
                "        DiscountCode='06' OR \r\n",
                "        DiscountCode='08' OR \r\n",
                "        DiscountCode='10' OR \r\n",
                "        DiscountCode='A1' OR \r\n",
                "        DiscountCode='B3'\r\n",
                "    ) NULL,\r\n",
                "    CreditCode CHAR(3) NULL,\r\n",
                "    CustomerID CHAR(5) FOREIGN KEY REFERENCES TblCustomer(customerid),\r\n",
                "    AddressID INT FOREIGN KEY REFERENCES TblShipAddress(AddressID) NULL,\r\n",
                "    EmpID CHAR(6) FOREIGN KEY REFERENCES tblEmployee(EmpID) NULL,\r\n",
                ")\r\n",
                "\r\n",
                "CREATE TABLE tblItemType\r\n",
                "(\r\n",
                "    TypeID INT PRIMARY KEY NOT NULL,\r\n",
                "    CategoryDescription VARCHAR(50) NULL,\r\n",
                ")\r\n",
                "\r\n",
                "CREATE TABLE tblItem\r\n",
                "(\r\n",
                "    ItemID CHAR(6) PRIMARY KEY NOT NULL,\r\n",
                "    Description VARCHAR(300) NULL,\r\n",
                "    ListPrice MONEY NOT NULL CHECK( ListPrice > 5),\r\n",
                "    TypeID INT FOREIGN KEY REFERENCES tblItemType(TypeID),\r\n",
                ")\r\n",
                "\r\n",
                "CREATE TABLE TblItemLocation\r\n",
                "(\r\n",
                "    ItemID CHAR(6) FOREIGN KEY REFERENCES tblItem(ItemID) NOT NULL,\r\n",
                "    LocationID CHAR(2) NOT NULL,\r\n",
                "    PRIMARY KEY (ItemID, LocationID),\r\n",
                "    QtyOnHand INT NULL,\r\n",
                ")\r\n",
                "\r\n",
                "CREATE TABLE tblItemCostHistory\r\n",
                "(\r\n",
                "    HistoryID INT PRIMARY KEY IDENTITY(1, 1),\r\n",
                "    ItemID CHAR(6) FOREIGN KEY REFERENCES tblItem(ItemID) NOT NULL,\r\n",
                "    LastCostDate DATETIME NOT NULL,\r\n",
                "    LastCost MONEY NOT NULL,\r\n",
                ")\r\n",
                "\r\n",
                "CREATE TABLE tblOrderLine\r\n",
                "(\r\n",
                "    OrderID CHAR(6) FOREIGN KEY REFERENCES TblOrder(OrderID) NOT NULL,\r\n",
                "    ItemID CHAR(6) FOREIGN KEY REFERENCES tblItem(ItemID) NOT NULL,\r\n",
                "    PRIMARY KEY(OrderID, ItemID),\r\n",
                "    QtyOrdered INT NOT NULL CHECK(QtyOrdered > 0),\r\n",
                "    Price MONEY NOT NULL CHECK(Price > 0),\r\n",
                "    AddressID INT FOREIGN KEY REFERENCES TblShipAddress(AddressID) NULL,\r\n",
                ")\r\n",
                "\r\n",
                "CREATE TABLE TblShipLine\r\n",
                "(\r\n",
                "    ShipLineID INT PRIMARY KEY IDENTITY(1, 1),\r\n",
                "    DateShipped DATETIME NOT NULL,\r\n",
                "    OrderID CHAR(6) NOT NULL,\r\n",
                "    ItemID CHAR(6) NOT NULL,\r\n",
                "    FOREIGN KEY (OrderID, ItemID) REFERENCES tblOrderLine(OrderID, ItemID), \r\n",
                "    LocationID CHAR(2) NOT NULL,\r\n",
                "    FOREIGN KEY (ItemID, LocationID) REFERENCES TblItemLocation(ItemID, LocationID),\r\n",
                "    QtyShipped INT NOT NULL,\r\n",
                "    MethodShipped VARCHAR(30) NOT NULL,\r\n",
                ")\r\n",
                "\r\n",
                "CREATE TABLE tblReview\r\n",
                "(\r\n",
                "    ReviewID INT PRIMARY KEY IDENTITY(1, 1),\r\n",
                "    ReviewDate DATETIME NULL,\r\n",
                "    Rating INT CHECK(\r\n",
                "        Rating = 1 OR\r\n",
                "        Rating = 2 OR\r\n",
                "        Rating = 3 OR\r\n",
                "        Rating = 4 OR\r\n",
                "        Rating = 5\r\n",
                "    ),\r\n",
                "    ReviewText VARCHAR(500) NULL,\r\n",
                "    OrderID CHAR(6) NOT NULL,\r\n",
                "    ItemID CHAR(6) NOT NULL,\r\n",
                "    FOREIGN KEY (OrderID, ItemID) REFERENCES tblOrderLine(OrderID, ItemID),\r\n",
                ")"
            ],
            "metadata": {
                "azdata_cell_guid": "ce31e449-02f6-4d2f-9a8f-7783b3e76970",
                "language": "sql",
                "tags": []
            },
            "outputs": [
                {
                    "output_type": "error",
                    "evalue": "Msg 2714, Level 16, State 6, Line 1\r\nThere is already an object named 'TblCustomer' in the database.",
                    "ename": "",
                    "traceback": []
                },
                {
                    "output_type": "display_data",
                    "data": {
                        "text/html": "Total execution time: 00:00:00.002"
                    },
                    "metadata": {}
                }
            ],
            "execution_count": 40
        },
        {
            "cell_type": "code",
            "source": [
                "SELECT * FROM TblCustomer;\r\n",
                "SELECT * FROM tblEmployee;\r\n",
                "\r\n",
                "SELECT * FROM tblShipAddress;\r\n",
                "SELECT * FROM tblOrder;\r\n",
                "\r\n",
                "SELECT * FROM tblItemType;\r\n",
                "SELECT * FROM tblItem;\r\n",
                "\r\n",
                "SELECT * FROM tblItemLocation;\r\n",
                "SELECT * FROM tblItemCostHistory;\r\n",
                "\r\n",
                "SELECT * FROM tblOrderLine;\r\n",
                "SELECT * FROM tblShipLine;\r\n",
                "\r\n",
                "SELECT * FROM tblReview;"
            ],
            "metadata": {
                "language": "sql",
                "azdata_cell_guid": "c2992c84-9529-4717-a279-6648f0b41461"
            },
            "outputs": [
                {
                    "output_type": "display_data",
                    "data": {
                        "text/html": "(17 rows affected)"
                    },
                    "metadata": {}
                },
                {
                    "output_type": "display_data",
                    "data": {
                        "text/html": "(15 rows affected)"
                    },
                    "metadata": {}
                },
                {
                    "output_type": "display_data",
                    "data": {
                        "text/html": "(10 rows affected)"
                    },
                    "metadata": {}
                },
                {
                    "output_type": "display_data",
                    "data": {
                        "text/html": "(18 rows affected)"
                    },
                    "metadata": {}
                },
                {
                    "output_type": "display_data",
                    "data": {
                        "text/html": "(10 rows affected)"
                    },
                    "metadata": {}
                },
                {
                    "output_type": "display_data",
                    "data": {
                        "text/html": "(19 rows affected)"
                    },
                    "metadata": {}
                },
                {
                    "output_type": "display_data",
                    "data": {
                        "text/html": "(31 rows affected)"
                    },
                    "metadata": {}
                },
                {
                    "output_type": "display_data",
                    "data": {
                        "text/html": "(63 rows affected)"
                    },
                    "metadata": {}
                },
                {
                    "output_type": "display_data",
                    "data": {
                        "text/html": "(46 rows affected)"
                    },
                    "metadata": {}
                },
                {
                    "output_type": "display_data",
                    "data": {
                        "text/html": "(53 rows affected)"
                    },
                    "metadata": {}
                },
                {
                    "output_type": "display_data",
                    "data": {
                        "text/html": "(13 rows affected)"
                    },
                    "metadata": {}
                },
                {
                    "output_type": "display_data",
                    "data": {
                        "text/html": "Total execution time: 00:00:00.146"
                    },
                    "metadata": {}
                },
                {
                    "output_type": "execute_result",
                    "metadata": {},
                    "execution_count": 41,
                    "data": {
                        "application/vnd.dataresource+json": {
                            "schema": {
                                "fields": [
                                    {
                                        "name": "CustomerID"
                                    },
                                    {
                                        "name": "LastName"
                                    },
                                    {
                                        "name": "FirstName"
                                    },
                                    {
                                        "name": "Address"
                                    },
                                    {
                                        "name": "City"
                                    },
                                    {
                                        "name": "State"
                                    },
                                    {
                                        "name": "Zip"
                                    },
                                    {
                                        "name": "Country"
                                    },
                                    {
                                        "name": "FirstBuyDate"
                                    },
                                    {
                                        "name": "Email"
                                    },
                                    {
                                        "name": "Phone"
                                    }
                                ]
                            },
                            "data": [
                                {
                                    "0": "00405",
                                    "1": "Barrington",
                                    "2": "Margaret",
                                    "3": "1765 Roundtree Pkwy",
                                    "4": "reno",
                                    "5": "nv",
                                    "6": "89509-1454",
                                    "7": "USA",
                                    "8": "2011-07-12 00:00:00.000",
                                    "9": "barry@hotmail.com",
                                    "10": "7757464561     "
                                },
                                {
                                    "0": "00625",
                                    "1": "Dao",
                                    "2": "Phong",
                                    "3": "341 West Park",
                                    "4": "Fresno",
                                    "5": "CA",
                                    "6": "96137",
                                    "7": "NULL",
                                    "8": "2021-09-02 00:00:00.000",
                                    "9": "daop@gmail.com",
                                    "10": "8582138982     "
                                },
                                {
                                    "0": "06774",
                                    "1": "Phan",
                                    "2": "Sarah",
                                    "3": "44512 Sawbuck Path",
                                    "4": "SPARKS",
                                    "5": "nv",
                                    "6": "89432",
                                    "7": "USA",
                                    "8": "2007-08-12 00:00:00.000",
                                    "9": "flipper@gmail.com",
                                    "10": "7753324636     "
                                },
                                {
                                    "0": "07831",
                                    "1": "Rodriguez",
                                    "2": "Karen",
                                    "3": "4589 Marthiam",
                                    "4": "Chico",
                                    "5": "CA",
                                    "6": "97111",
                                    "7": "NULL",
                                    "8": "2011-11-06 00:00:00.000",
                                    "9": "rodriguez@aol.com",
                                    "10": "8193821828     "
                                },
                                {
                                    "0": "08892",
                                    "1": "Medina",
                                    "2": "Teresa",
                                    "3": "P.O.Box 5661",
                                    "4": "san jose",
                                    "5": "ca",
                                    "6": "98123",
                                    "7": "USA",
                                    "8": "1999-04-01 00:00:00.000",
                                    "9": "twillbeth@ygmail.com",
                                    "10": "8098291838     "
                                },
                                {
                                    "0": "12001",
                                    "1": "Cranston",
                                    "2": "Brittany",
                                    "3": "12 Sandstone",
                                    "4": "Sparks",
                                    "5": "NV",
                                    "6": "89431",
                                    "7": "NULL",
                                    "8": "2019-04-12 00:00:00.000",
                                    "9": "britters@ccb.com",
                                    "10": "7753312199     "
                                },
                                {
                                    "0": "12006",
                                    "1": "Martinez",
                                    "2": "Guadalupe",
                                    "3": "223 North Pinetree Drive",
                                    "4": "Reno",
                                    "5": "NV",
                                    "6": "89511",
                                    "7": "NULL",
                                    "8": "2021-02-14 00:00:00.000",
                                    "9": "gmartinez@ccu.edu",
                                    "10": "7758837612     "
                                },
                                {
                                    "0": "21142",
                                    "1": "Candriller",
                                    "2": "Emily",
                                    "3": "2 Sedgeway",
                                    "4": "Laguna Beach",
                                    "5": "CA",
                                    "6": "94567",
                                    "7": "NULL",
                                    "8": "2021-12-11 00:00:00.000",
                                    "9": "kriller@mbu.edu",
                                    "10": "6198813929     "
                                },
                                {
                                    "0": "21143",
                                    "1": "Gutierrez",
                                    "2": "Yolanda",
                                    "3": "2341 Bramble Bush Drive",
                                    "4": "Sparks",
                                    "5": "NV",
                                    "6": "89431-0112",
                                    "7": "NULL",
                                    "8": "2021-05-06 00:00:00.000",
                                    "9": "jj@isp.all.com",
                                    "10": "7753317188     "
                                },
                                {
                                    "0": "24221",
                                    "1": "Sassani",
                                    "2": "Mahsa",
                                    "3": "8891 Wedekind",
                                    "4": "Sparks",
                                    "5": "nV",
                                    "6": "89426",
                                    "7": "USA",
                                    "8": "2022-01-15 00:00:00.000",
                                    "9": "mussiea@gmail.com",
                                    "10": "7752211233     "
                                },
                                {
                                    "0": "29188",
                                    "1": "Polanski",
                                    "2": "Tiffany",
                                    "3": "5778 Battlemount Ct.",
                                    "4": "RENO",
                                    "5": "NV",
                                    "6": "89507",
                                    "7": "NULL",
                                    "8": "2012-08-23 00:00:00.000",
                                    "9": "skipole@gmail.com",
                                    "10": "7757465771     "
                                },
                                {
                                    "0": "30192",
                                    "1": "Chen",
                                    "2": "Lian",
                                    "3": "2319 Crest Dr",
                                    "4": "REno",
                                    "5": "Nv",
                                    "6": "89503-0113",
                                    "7": "NULL",
                                    "8": "2000-08-30 00:00:00.000",
                                    "9": "jester@here.com",
                                    "10": "7757218991     "
                                },
                                {
                                    "0": "32019",
                                    "1": "Stein",
                                    "2": "Martin",
                                    "3": "10 South Wilders",
                                    "4": "reno",
                                    "5": "nv",
                                    "6": "89503-8912",
                                    "7": "USA",
                                    "8": "2022-02-12 00:00:00.000",
                                    "9": "mmm@hard.com",
                                    "10": "7753314838     "
                                },
                                {
                                    "0": "32817",
                                    "1": "Foster-Madani",
                                    "2": "Mohsen",
                                    "3": "318 Western Ave",
                                    "4": "SAN diego",
                                    "5": "ca",
                                    "6": "92381",
                                    "7": "NULL",
                                    "8": "1999-08-15 00:00:00.000",
                                    "9": "fosterja@gmail.com",
                                    "10": "8583284483     "
                                },
                                {
                                    "0": "38817",
                                    "1": "Okeke",
                                    "2": "Bud",
                                    "3": "1001 Catchway",
                                    "4": "Anaheim",
                                    "5": "CA",
                                    "6": "95113",
                                    "7": "NULL",
                                    "8": "2021-03-12 00:00:00.000",
                                    "9": "bud@cservices.com",
                                    "10": "8037718991     "
                                },
                                {
                                    "0": "39418",
                                    "1": "Agarwal",
                                    "2": "Sandeep",
                                    "3": "452 Anza Drive",
                                    "4": "San Diego",
                                    "5": "CA",
                                    "6": "92125",
                                    "7": "NULL",
                                    "8": "2022-02-02 00:00:00.000",
                                    "9": "agarwin@yahoo.com",
                                    "10": "8189929011     "
                                },
                                {
                                    "0": "78112",
                                    "1": "Guili",
                                    "2": "Mary Anne",
                                    "3": "4457 Meridith St",
                                    "4": "Irvine",
                                    "5": "CA",
                                    "6": "97128",
                                    "7": "NULL",
                                    "8": "2019-10-09 00:00:00.000",
                                    "9": "ma@san.rr.com",
                                    "10": "6195621334     "
                                }
                            ]
                        },
                        "text/html": [
                            "<table>",
                            "<tr><th>CustomerID</th><th>LastName</th><th>FirstName</th><th>Address</th><th>City</th><th>State</th><th>Zip</th><th>Country</th><th>FirstBuyDate</th><th>Email</th><th>Phone</th></tr>",
                            "<tr><td>00405</td><td>Barrington</td><td>Margaret</td><td>1765 Roundtree Pkwy</td><td>reno</td><td>nv</td><td>89509-1454</td><td>USA</td><td>2011-07-12 00:00:00.000</td><td>barry@hotmail.com</td><td>7757464561     </td></tr>",
                            "<tr><td>00625</td><td>Dao</td><td>Phong</td><td>341 West Park</td><td>Fresno</td><td>CA</td><td>96137</td><td>NULL</td><td>2021-09-02 00:00:00.000</td><td>daop@gmail.com</td><td>8582138982     </td></tr>",
                            "<tr><td>06774</td><td>Phan</td><td>Sarah</td><td>44512 Sawbuck Path</td><td>SPARKS</td><td>nv</td><td>89432</td><td>USA</td><td>2007-08-12 00:00:00.000</td><td>flipper@gmail.com</td><td>7753324636     </td></tr>",
                            "<tr><td>07831</td><td>Rodriguez</td><td>Karen</td><td>4589 Marthiam</td><td>Chico</td><td>CA</td><td>97111</td><td>NULL</td><td>2011-11-06 00:00:00.000</td><td>rodriguez@aol.com</td><td>8193821828     </td></tr>",
                            "<tr><td>08892</td><td>Medina</td><td>Teresa</td><td>P.O.Box 5661</td><td>san jose</td><td>ca</td><td>98123</td><td>USA</td><td>1999-04-01 00:00:00.000</td><td>twillbeth@ygmail.com</td><td>8098291838     </td></tr>",
                            "<tr><td>12001</td><td>Cranston</td><td>Brittany</td><td>12 Sandstone</td><td>Sparks</td><td>NV</td><td>89431</td><td>NULL</td><td>2019-04-12 00:00:00.000</td><td>britters@ccb.com</td><td>7753312199     </td></tr>",
                            "<tr><td>12006</td><td>Martinez</td><td>Guadalupe</td><td>223 North Pinetree Drive</td><td>Reno</td><td>NV</td><td>89511</td><td>NULL</td><td>2021-02-14 00:00:00.000</td><td>gmartinez@ccu.edu</td><td>7758837612     </td></tr>",
                            "<tr><td>21142</td><td>Candriller</td><td>Emily</td><td>2 Sedgeway</td><td>Laguna Beach</td><td>CA</td><td>94567</td><td>NULL</td><td>2021-12-11 00:00:00.000</td><td>kriller@mbu.edu</td><td>6198813929     </td></tr>",
                            "<tr><td>21143</td><td>Gutierrez</td><td>Yolanda</td><td>2341 Bramble Bush Drive</td><td>Sparks</td><td>NV</td><td>89431-0112</td><td>NULL</td><td>2021-05-06 00:00:00.000</td><td>jj@isp.all.com</td><td>7753317188     </td></tr>",
                            "<tr><td>24221</td><td>Sassani</td><td>Mahsa</td><td>8891 Wedekind</td><td>Sparks</td><td>nV</td><td>89426</td><td>USA</td><td>2022-01-15 00:00:00.000</td><td>mussiea@gmail.com</td><td>7752211233     </td></tr>",
                            "<tr><td>29188</td><td>Polanski</td><td>Tiffany</td><td>5778 Battlemount Ct.</td><td>RENO</td><td>NV</td><td>89507</td><td>NULL</td><td>2012-08-23 00:00:00.000</td><td>skipole@gmail.com</td><td>7757465771     </td></tr>",
                            "<tr><td>30192</td><td>Chen</td><td>Lian</td><td>2319 Crest Dr</td><td>REno</td><td>Nv</td><td>89503-0113</td><td>NULL</td><td>2000-08-30 00:00:00.000</td><td>jester@here.com</td><td>7757218991     </td></tr>",
                            "<tr><td>32019</td><td>Stein</td><td>Martin</td><td>10 South Wilders</td><td>reno</td><td>nv</td><td>89503-8912</td><td>USA</td><td>2022-02-12 00:00:00.000</td><td>mmm@hard.com</td><td>7753314838     </td></tr>",
                            "<tr><td>32817</td><td>Foster-Madani</td><td>Mohsen</td><td>318 Western Ave</td><td>SAN diego</td><td>ca</td><td>92381</td><td>NULL</td><td>1999-08-15 00:00:00.000</td><td>fosterja@gmail.com</td><td>8583284483     </td></tr>",
                            "<tr><td>38817</td><td>Okeke</td><td>Bud</td><td>1001 Catchway</td><td>Anaheim</td><td>CA</td><td>95113</td><td>NULL</td><td>2021-03-12 00:00:00.000</td><td>bud@cservices.com</td><td>8037718991     </td></tr>",
                            "<tr><td>39418</td><td>Agarwal</td><td>Sandeep</td><td>452 Anza Drive</td><td>San Diego</td><td>CA</td><td>92125</td><td>NULL</td><td>2022-02-02 00:00:00.000</td><td>agarwin@yahoo.com</td><td>8189929011     </td></tr>",
                            "<tr><td>78112</td><td>Guili</td><td>Mary Anne</td><td>4457 Meridith St</td><td>Irvine</td><td>CA</td><td>97128</td><td>NULL</td><td>2019-10-09 00:00:00.000</td><td>ma@san.rr.com</td><td>6195621334     </td></tr>",
                            "</table>"
                        ]
                    }
                },
                {
                    "output_type": "execute_result",
                    "metadata": {},
                    "execution_count": 41,
                    "data": {
                        "application/vnd.dataresource+json": {
                            "schema": {
                                "fields": [
                                    {
                                        "name": "EmpID"
                                    },
                                    {
                                        "name": "EmpLastName"
                                    },
                                    {
                                        "name": "EmpFirstName"
                                    },
                                    {
                                        "name": "EmpEmail"
                                    },
                                    {
                                        "name": "EmpPhone"
                                    },
                                    {
                                        "name": "EmpMgrID"
                                    }
                                ]
                            },
                            "data": [
                                {
                                    "0": "E10003",
                                    "1": "Shamsudeen",
                                    "2": "Mumtaz",
                                    "3": "MumSham@gmail.com",
                                    "4": "7755423212     ",
                                    "5": "NULL"
                                },
                                {
                                    "0": "E10009",
                                    "1": "Hernandez",
                                    "2": "Nathan",
                                    "3": "NULL",
                                    "4": "7755313562     ",
                                    "5": "E10003"
                                },
                                {
                                    "0": "E10015",
                                    "1": "Fetters",
                                    "2": "Sam",
                                    "3": "SFETTERS@gmail.com",
                                    "4": "7753453821     ",
                                    "5": "E10003"
                                },
                                {
                                    "0": "E10018",
                                    "1": "Schnitkowski",
                                    "2": "Michael",
                                    "3": "MSCHNIT@gmail.com",
                                    "4": "7776553582     ",
                                    "5": "E10003"
                                },
                                {
                                    "0": "E10026",
                                    "1": "Nguyen",
                                    "2": "Lieu",
                                    "3": "LNguyen@gmail.com",
                                    "4": "7755313834     ",
                                    "5": "E10015"
                                },
                                {
                                    "0": "E10042",
                                    "1": "Van Meter",
                                    "2": "Juliette",
                                    "3": "JVANMETER@gmail.com",
                                    "4": "7758453551     ",
                                    "5": "E10026"
                                },
                                {
                                    "0": "E10055",
                                    "1": "Huang",
                                    "2": "Hai Jun",
                                    "3": "HJHuang@gmail.com",
                                    "4": "7759153891     ",
                                    "5": "NULL"
                                },
                                {
                                    "0": "E10056",
                                    "1": "Chen",
                                    "2": "John",
                                    "3": "NULL",
                                    "4": "7759053821     ",
                                    "5": "E10015"
                                },
                                {
                                    "0": "E10057",
                                    "1": "Pinot",
                                    "2": "Jean Claude",
                                    "3": "JPINOT@gmail.com",
                                    "4": "7756749002     ",
                                    "5": "NULL"
                                },
                                {
                                    "0": "E10077",
                                    "1": "MacAndrews-Abernethy",
                                    "2": "Elizabeth Victoria",
                                    "3": "EMACANDREWSABERNET@gmail.com",
                                    "4": "7755553894     ",
                                    "5": "E10026"
                                },
                                {
                                    "0": "E10085",
                                    "1": "Wong",
                                    "2": "Thomas",
                                    "3": "TNW@gmail.com",
                                    "4": "7757783511     ",
                                    "5": "E10026"
                                },
                                {
                                    "0": "E10087",
                                    "1": "Agarwal",
                                    "2": "Aarav",
                                    "3": "AAwal@gmail.com",
                                    "4": "7757821341     ",
                                    "5": "E10026"
                                },
                                {
                                    "0": "E10088",
                                    "1": "O'Toole",
                                    "2": "Timothy",
                                    "3": "TOTOOL@gmail.com",
                                    "4": "7758423529     ",
                                    "5": "E10026"
                                },
                                {
                                    "0": "E10101",
                                    "1": "Dabiri",
                                    "2": "Dilshad",
                                    "3": "DilDabiri@gmail.com",
                                    "4": "7758413838     ",
                                    "5": "E10026"
                                },
                                {
                                    "0": "E10192",
                                    "1": "Garcia",
                                    "2": "Leonardo",
                                    "3": "NULL",
                                    "4": "7756219005     ",
                                    "5": "NULL"
                                }
                            ]
                        },
                        "text/html": [
                            "<table>",
                            "<tr><th>EmpID</th><th>EmpLastName</th><th>EmpFirstName</th><th>EmpEmail</th><th>EmpPhone</th><th>EmpMgrID</th></tr>",
                            "<tr><td>E10003</td><td>Shamsudeen</td><td>Mumtaz</td><td>MumSham@gmail.com</td><td>7755423212     </td><td>NULL</td></tr>",
                            "<tr><td>E10009</td><td>Hernandez</td><td>Nathan</td><td>NULL</td><td>7755313562     </td><td>E10003</td></tr>",
                            "<tr><td>E10015</td><td>Fetters</td><td>Sam</td><td>SFETTERS@gmail.com</td><td>7753453821     </td><td>E10003</td></tr>",
                            "<tr><td>E10018</td><td>Schnitkowski</td><td>Michael</td><td>MSCHNIT@gmail.com</td><td>7776553582     </td><td>E10003</td></tr>",
                            "<tr><td>E10026</td><td>Nguyen</td><td>Lieu</td><td>LNguyen@gmail.com</td><td>7755313834     </td><td>E10015</td></tr>",
                            "<tr><td>E10042</td><td>Van Meter</td><td>Juliette</td><td>JVANMETER@gmail.com</td><td>7758453551     </td><td>E10026</td></tr>",
                            "<tr><td>E10055</td><td>Huang</td><td>Hai Jun</td><td>HJHuang@gmail.com</td><td>7759153891     </td><td>NULL</td></tr>",
                            "<tr><td>E10056</td><td>Chen</td><td>John</td><td>NULL</td><td>7759053821     </td><td>E10015</td></tr>",
                            "<tr><td>E10057</td><td>Pinot</td><td>Jean Claude</td><td>JPINOT@gmail.com</td><td>7756749002     </td><td>NULL</td></tr>",
                            "<tr><td>E10077</td><td>MacAndrews-Abernethy</td><td>Elizabeth Victoria</td><td>EMACANDREWSABERNET@gmail.com</td><td>7755553894     </td><td>E10026</td></tr>",
                            "<tr><td>E10085</td><td>Wong</td><td>Thomas</td><td>TNW@gmail.com</td><td>7757783511     </td><td>E10026</td></tr>",
                            "<tr><td>E10087</td><td>Agarwal</td><td>Aarav</td><td>AAwal@gmail.com</td><td>7757821341     </td><td>E10026</td></tr>",
                            "<tr><td>E10088</td><td>O'Toole</td><td>Timothy</td><td>TOTOOL@gmail.com</td><td>7758423529     </td><td>E10026</td></tr>",
                            "<tr><td>E10101</td><td>Dabiri</td><td>Dilshad</td><td>DilDabiri@gmail.com</td><td>7758413838     </td><td>E10026</td></tr>",
                            "<tr><td>E10192</td><td>Garcia</td><td>Leonardo</td><td>NULL</td><td>7756219005     </td><td>NULL</td></tr>",
                            "</table>"
                        ]
                    }
                },
                {
                    "output_type": "execute_result",
                    "metadata": {},
                    "execution_count": 41,
                    "data": {
                        "application/vnd.dataresource+json": {
                            "schema": {
                                "fields": [
                                    {
                                        "name": "AddressID"
                                    },
                                    {
                                        "name": "ShipName"
                                    },
                                    {
                                        "name": "ShipAddress"
                                    },
                                    {
                                        "name": "ShipPostalCode"
                                    },
                                    {
                                        "name": "ShipCountry"
                                    },
                                    {
                                        "name": "ShipPhone"
                                    }
                                ]
                            },
                            "data": [
                                {
                                    "0": "10",
                                    "1": "Maricopa Vineyards",
                                    "2": "7834 West Oakway Avenue",
                                    "3": "92711",
                                    "4": "USA",
                                    "5": "4129807811     "
                                },
                                {
                                    "0": "20",
                                    "1": "Jessica Riaz",
                                    "2": "35123 Caminito Corriente",
                                    "3": "92120",
                                    "4": "USA",
                                    "5": "8584415660     "
                                },
                                {
                                    "0": "30",
                                    "1": "Baselite Industries",
                                    "2": "7834 West Oakway Avenue",
                                    "3": "92711",
                                    "4": "USA",
                                    "5": "4129807811     "
                                },
                                {
                                    "0": "40",
                                    "1": "Jeremiah Blotsworth",
                                    "2": "12 Spotting Dog",
                                    "3": "CV1 3LD",
                                    "4": "UK",
                                    "5": "440122489558   "
                                },
                                {
                                    "0": "50",
                                    "1": "Christchurch Stanza",
                                    "2": "2104 Akaroa Road",
                                    "3": "CHR 7672",
                                    "4": "NZ",
                                    "5": "6409849380692  "
                                },
                                {
                                    "0": "60",
                                    "1": "Michael Lee",
                                    "2": "4778 Scofield Ct.",
                                    "3": "087764551",
                                    "4": "USA",
                                    "5": "2108967885     "
                                },
                                {
                                    "0": "65",
                                    "1": "Nguyen Thi Hoa",
                                    "2": "16/2 Quang Trung Street",
                                    "3": "Tran Tru",
                                    "4": "Long Am 654321",
                                    "5": "289896788544   "
                                },
                                {
                                    "0": "70",
                                    "1": "Ivan Smirnov",
                                    "2": "1500 15th Avenue",
                                    "3": "670128996",
                                    "4": "USA",
                                    "5": "8318892331     "
                                },
                                {
                                    "0": "80",
                                    "1": "January Wang",
                                    "2": "891 Aston St.",
                                    "3": "B4 7DA",
                                    "4": "UK",
                                    "5": "44490943958    "
                                },
                                {
                                    "0": "85",
                                    "1": "Esperanza Fernandez",
                                    "2": "Calle Aduana, 29",
                                    "3": "28010 Madrid",
                                    "4": "Spain",
                                    "5": "448395943958   "
                                }
                            ]
                        },
                        "text/html": [
                            "<table>",
                            "<tr><th>AddressID</th><th>ShipName</th><th>ShipAddress</th><th>ShipPostalCode</th><th>ShipCountry</th><th>ShipPhone</th></tr>",
                            "<tr><td>10</td><td>Maricopa Vineyards</td><td>7834 West Oakway Avenue</td><td>92711</td><td>USA</td><td>4129807811     </td></tr>",
                            "<tr><td>20</td><td>Jessica Riaz</td><td>35123 Caminito Corriente</td><td>92120</td><td>USA</td><td>8584415660     </td></tr>",
                            "<tr><td>30</td><td>Baselite Industries</td><td>7834 West Oakway Avenue</td><td>92711</td><td>USA</td><td>4129807811     </td></tr>",
                            "<tr><td>40</td><td>Jeremiah Blotsworth</td><td>12 Spotting Dog</td><td>CV1 3LD</td><td>UK</td><td>440122489558   </td></tr>",
                            "<tr><td>50</td><td>Christchurch Stanza</td><td>2104 Akaroa Road</td><td>CHR 7672</td><td>NZ</td><td>6409849380692  </td></tr>",
                            "<tr><td>60</td><td>Michael Lee</td><td>4778 Scofield Ct.</td><td>087764551</td><td>USA</td><td>2108967885     </td></tr>",
                            "<tr><td>65</td><td>Nguyen Thi Hoa</td><td>16/2 Quang Trung Street</td><td>Tran Tru</td><td>Long Am 654321</td><td>289896788544   </td></tr>",
                            "<tr><td>70</td><td>Ivan Smirnov</td><td>1500 15th Avenue</td><td>670128996</td><td>USA</td><td>8318892331     </td></tr>",
                            "<tr><td>80</td><td>January Wang</td><td>891 Aston St.</td><td>B4 7DA</td><td>UK</td><td>44490943958    </td></tr>",
                            "<tr><td>85</td><td>Esperanza Fernandez</td><td>Calle Aduana, 29</td><td>28010 Madrid</td><td>Spain</td><td>448395943958   </td></tr>",
                            "</table>"
                        ]
                    }
                },
                {
                    "output_type": "execute_result",
                    "metadata": {},
                    "execution_count": 41,
                    "data": {
                        "application/vnd.dataresource+json": {
                            "schema": {
                                "fields": [
                                    {
                                        "name": "OrderID"
                                    },
                                    {
                                        "name": "OrderDate"
                                    },
                                    {
                                        "name": "DiscountCode"
                                    },
                                    {
                                        "name": "CreditCode"
                                    },
                                    {
                                        "name": "CustomerID"
                                    },
                                    {
                                        "name": "AddressID"
                                    },
                                    {
                                        "name": "EmpID"
                                    }
                                ]
                            },
                            "data": [
                                {
                                    "0": "123000",
                                    "1": "2022-02-02 00:00:00.000",
                                    "2": "A1",
                                    "3": "111",
                                    "4": "00405",
                                    "5": "NULL",
                                    "6": "E10026"
                                },
                                {
                                    "0": "200335",
                                    "1": "2022-01-26 00:00:00.000",
                                    "2": "NULL",
                                    "3": "111",
                                    "4": "07831",
                                    "5": "20",
                                    "6": "E10085"
                                },
                                {
                                    "0": "223344",
                                    "1": "2022-02-09 00:00:00.000",
                                    "2": "NULL",
                                    "3": "231",
                                    "4": "21142",
                                    "5": "NULL",
                                    "6": "E10085"
                                },
                                {
                                    "0": "300221",
                                    "1": "2022-01-26 00:00:00.000",
                                    "2": "03",
                                    "3": "231",
                                    "4": "07831",
                                    "5": "20",
                                    "6": "E10085"
                                },
                                {
                                    "0": "381921",
                                    "1": "2022-03-01 00:00:00.000",
                                    "2": "06",
                                    "3": "444",
                                    "4": "32019",
                                    "5": "40",
                                    "6": "E10085"
                                },
                                {
                                    "0": "400001",
                                    "1": "2022-02-20 00:00:00.000",
                                    "2": "B3",
                                    "3": "111",
                                    "4": "32019",
                                    "5": "NULL",
                                    "6": "E10087"
                                },
                                {
                                    "0": "421988",
                                    "1": "2022-03-05 00:00:00.000",
                                    "2": "NULL",
                                    "3": "117",
                                    "4": "24221",
                                    "5": "NULL",
                                    "6": "E10085"
                                },
                                {
                                    "0": "445511",
                                    "1": "2022-02-15 00:00:00.000",
                                    "2": "02",
                                    "3": "444",
                                    "4": "32019",
                                    "5": "NULL",
                                    "6": "NULL"
                                },
                                {
                                    "0": "450137",
                                    "1": "2021-12-29 00:00:00.000",
                                    "2": "NULL",
                                    "3": "444",
                                    "4": "07831",
                                    "5": "10",
                                    "6": "E10026"
                                },
                                {
                                    "0": "567123",
                                    "1": "2022-01-26 00:00:00.000",
                                    "2": "NULL",
                                    "3": "444",
                                    "4": "07831",
                                    "5": "10",
                                    "6": "E10057"
                                },
                                {
                                    "0": "651222",
                                    "1": "2022-01-29 00:00:00.000",
                                    "2": "NULL",
                                    "3": "111",
                                    "4": "12006",
                                    "5": "NULL",
                                    "6": "E10056"
                                },
                                {
                                    "0": "671100",
                                    "1": "2022-02-19 00:00:00.000",
                                    "2": "NULL",
                                    "3": "111",
                                    "4": "32019",
                                    "5": "65",
                                    "6": "E10085"
                                },
                                {
                                    "0": "675990",
                                    "1": "2021-12-28 00:00:00.000",
                                    "2": "NULL",
                                    "3": "111",
                                    "4": "00625",
                                    "5": "40",
                                    "6": "E10085"
                                },
                                {
                                    "0": "781206",
                                    "1": "2022-02-15 00:00:00.000",
                                    "2": "06",
                                    "3": "231",
                                    "4": "38817",
                                    "5": "85",
                                    "6": "E10056"
                                },
                                {
                                    "0": "828211",
                                    "1": "2022-03-11 00:00:00.000",
                                    "2": "03",
                                    "3": "444",
                                    "4": "32817",
                                    "5": "NULL",
                                    "6": "E10026"
                                },
                                {
                                    "0": "892211",
                                    "1": "2021-12-28 00:00:00.000",
                                    "2": "NULL",
                                    "3": "111",
                                    "4": "00625",
                                    "5": "NULL",
                                    "6": "E10026"
                                },
                                {
                                    "0": "980001",
                                    "1": "2022-01-22 00:00:00.000",
                                    "2": "04",
                                    "3": "444",
                                    "4": "78112",
                                    "5": "NULL",
                                    "6": "NULL"
                                },
                                {
                                    "0": "983983",
                                    "1": "2022-02-19 00:00:00.000",
                                    "2": "NULL",
                                    "3": "111",
                                    "4": "32019",
                                    "5": "50",
                                    "6": "NULL"
                                }
                            ]
                        },
                        "text/html": [
                            "<table>",
                            "<tr><th>OrderID</th><th>OrderDate</th><th>DiscountCode</th><th>CreditCode</th><th>CustomerID</th><th>AddressID</th><th>EmpID</th></tr>",
                            "<tr><td>123000</td><td>2022-02-02 00:00:00.000</td><td>A1</td><td>111</td><td>00405</td><td>NULL</td><td>E10026</td></tr>",
                            "<tr><td>200335</td><td>2022-01-26 00:00:00.000</td><td>NULL</td><td>111</td><td>07831</td><td>20</td><td>E10085</td></tr>",
                            "<tr><td>223344</td><td>2022-02-09 00:00:00.000</td><td>NULL</td><td>231</td><td>21142</td><td>NULL</td><td>E10085</td></tr>",
                            "<tr><td>300221</td><td>2022-01-26 00:00:00.000</td><td>03</td><td>231</td><td>07831</td><td>20</td><td>E10085</td></tr>",
                            "<tr><td>381921</td><td>2022-03-01 00:00:00.000</td><td>06</td><td>444</td><td>32019</td><td>40</td><td>E10085</td></tr>",
                            "<tr><td>400001</td><td>2022-02-20 00:00:00.000</td><td>B3</td><td>111</td><td>32019</td><td>NULL</td><td>E10087</td></tr>",
                            "<tr><td>421988</td><td>2022-03-05 00:00:00.000</td><td>NULL</td><td>117</td><td>24221</td><td>NULL</td><td>E10085</td></tr>",
                            "<tr><td>445511</td><td>2022-02-15 00:00:00.000</td><td>02</td><td>444</td><td>32019</td><td>NULL</td><td>NULL</td></tr>",
                            "<tr><td>450137</td><td>2021-12-29 00:00:00.000</td><td>NULL</td><td>444</td><td>07831</td><td>10</td><td>E10026</td></tr>",
                            "<tr><td>567123</td><td>2022-01-26 00:00:00.000</td><td>NULL</td><td>444</td><td>07831</td><td>10</td><td>E10057</td></tr>",
                            "<tr><td>651222</td><td>2022-01-29 00:00:00.000</td><td>NULL</td><td>111</td><td>12006</td><td>NULL</td><td>E10056</td></tr>",
                            "<tr><td>671100</td><td>2022-02-19 00:00:00.000</td><td>NULL</td><td>111</td><td>32019</td><td>65</td><td>E10085</td></tr>",
                            "<tr><td>675990</td><td>2021-12-28 00:00:00.000</td><td>NULL</td><td>111</td><td>00625</td><td>40</td><td>E10085</td></tr>",
                            "<tr><td>781206</td><td>2022-02-15 00:00:00.000</td><td>06</td><td>231</td><td>38817</td><td>85</td><td>E10056</td></tr>",
                            "<tr><td>828211</td><td>2022-03-11 00:00:00.000</td><td>03</td><td>444</td><td>32817</td><td>NULL</td><td>E10026</td></tr>",
                            "<tr><td>892211</td><td>2021-12-28 00:00:00.000</td><td>NULL</td><td>111</td><td>00625</td><td>NULL</td><td>E10026</td></tr>",
                            "<tr><td>980001</td><td>2022-01-22 00:00:00.000</td><td>04</td><td>444</td><td>78112</td><td>NULL</td><td>NULL</td></tr>",
                            "<tr><td>983983</td><td>2022-02-19 00:00:00.000</td><td>NULL</td><td>111</td><td>32019</td><td>50</td><td>NULL</td></tr>",
                            "</table>"
                        ]
                    }
                },
                {
                    "output_type": "execute_result",
                    "metadata": {},
                    "execution_count": 41,
                    "data": {
                        "application/vnd.dataresource+json": {
                            "schema": {
                                "fields": [
                                    {
                                        "name": "TypeID"
                                    },
                                    {
                                        "name": "CategoryDescription"
                                    }
                                ]
                            },
                            "data": [
                                {
                                    "0": "10",
                                    "1": "Classic Board Games"
                                },
                                {
                                    "0": "11",
                                    "1": "Word Games"
                                },
                                {
                                    "0": "12",
                                    "1": "Science Fiction and Fantasy"
                                },
                                {
                                    "0": "14",
                                    "1": "Jigsaw Puzzles"
                                },
                                {
                                    "0": "15",
                                    "1": "Mystery and Thrillers"
                                },
                                {
                                    "0": "16",
                                    "1": "Romance"
                                },
                                {
                                    "0": "17",
                                    "1": "Comedy and Jokes"
                                },
                                {
                                    "0": "18",
                                    "1": "Board Game Party"
                                },
                                {
                                    "0": "19",
                                    "1": "Family Games"
                                },
                                {
                                    "0": "20",
                                    "1": "Office and Team Building"
                                }
                            ]
                        },
                        "text/html": [
                            "<table>",
                            "<tr><th>TypeID</th><th>CategoryDescription</th></tr>",
                            "<tr><td>10</td><td>Classic Board Games</td></tr>",
                            "<tr><td>11</td><td>Word Games</td></tr>",
                            "<tr><td>12</td><td>Science Fiction and Fantasy</td></tr>",
                            "<tr><td>14</td><td>Jigsaw Puzzles</td></tr>",
                            "<tr><td>15</td><td>Mystery and Thrillers</td></tr>",
                            "<tr><td>16</td><td>Romance</td></tr>",
                            "<tr><td>17</td><td>Comedy and Jokes</td></tr>",
                            "<tr><td>18</td><td>Board Game Party</td></tr>",
                            "<tr><td>19</td><td>Family Games</td></tr>",
                            "<tr><td>20</td><td>Office and Team Building</td></tr>",
                            "</table>"
                        ]
                    }
                },
                {
                    "output_type": "execute_result",
                    "metadata": {},
                    "execution_count": 41,
                    "data": {
                        "application/vnd.dataresource+json": {
                            "schema": {
                                "fields": [
                                    {
                                        "name": "ItemID"
                                    },
                                    {
                                        "name": "Description"
                                    },
                                    {
                                        "name": "ListPrice"
                                    },
                                    {
                                        "name": "TypeID"
                                    }
                                ]
                            },
                            "data": [
                                {
                                    "0": "A02939",
                                    "1": "Rolling Stones Collection 3000 Piece Puzzle",
                                    "2": "56.99",
                                    "3": "14"
                                },
                                {
                                    "0": "A08123",
                                    "1": "Strawberry Fields Forever Puzzle",
                                    "2": "45.99",
                                    "3": "14"
                                },
                                {
                                    "0": "A22444",
                                    "1": "Mombasa",
                                    "2": "41.00",
                                    "3": "15"
                                },
                                {
                                    "0": "A23441",
                                    "1": "New York City Monopoly Game Collector's Edition",
                                    "2": "29.95",
                                    "3": "10"
                                },
                                {
                                    "0": "A23771",
                                    "1": "Mysterium",
                                    "2": "132.99",
                                    "3": "12"
                                },
                                {
                                    "0": "A25698",
                                    "1": "USA License Plate 1000 Piece Puzzle",
                                    "2": "18.99",
                                    "3": "14"
                                },
                                {
                                    "0": "A34665",
                                    "1": "Boggle Deluxe 5x5",
                                    "2": "34.95",
                                    "3": "10"
                                },
                                {
                                    "0": "A34882",
                                    "1": "Falling Sky",
                                    "2": "99.99",
                                    "3": "10"
                                },
                                {
                                    "0": "A45111",
                                    "1": "How to Host a Murder - An Affair to Dismember",
                                    "2": "28.95",
                                    "3": "15"
                                },
                                {
                                    "0": "A89222",
                                    "1": "Pandante",
                                    "2": "125.99",
                                    "3": "19"
                                },
                                {
                                    "0": "A89437",
                                    "1": "Geode 3000 Piece Puzzle",
                                    "2": "64.99",
                                    "3": "14"
                                },
                                {
                                    "0": "B67123",
                                    "1": "Tiny Epic Galaxies",
                                    "2": "39.99",
                                    "3": "12"
                                },
                                {
                                    "0": "B67466",
                                    "1": "Diplomacy:  Game of Negotiation, Cunning and Deceit.",
                                    "2": "43.95",
                                    "3": "20"
                                },
                                {
                                    "0": "B78244",
                                    "1": "Code Names",
                                    "2": "19.95",
                                    "3": "15"
                                },
                                {
                                    "0": "B78500",
                                    "1": "Pandemic Legacy",
                                    "2": "59.99",
                                    "3": "12"
                                },
                                {
                                    "0": "C26133",
                                    "1": "Knowledge Management:  Create a Learning Organization",
                                    "2": "395.95",
                                    "3": "20"
                                },
                                {
                                    "0": "C29179",
                                    "1": "Managing Change:  The Game for an Executive Retreat",
                                    "2": "259.95",
                                    "3": "20"
                                },
                                {
                                    "0": "C34122",
                                    "1": "A Game of Strategy, Negotiation and Excitement for Office Retreats",
                                    "2": "169.95",
                                    "3": "20"
                                },
                                {
                                    "0": "C38141",
                                    "1": "Digital Transformation and Changing Work Environment",
                                    "2": "198.99",
                                    "3": "20"
                                }
                            ]
                        },
                        "text/html": [
                            "<table>",
                            "<tr><th>ItemID</th><th>Description</th><th>ListPrice</th><th>TypeID</th></tr>",
                            "<tr><td>A02939</td><td>Rolling Stones Collection 3000 Piece Puzzle</td><td>56.99</td><td>14</td></tr>",
                            "<tr><td>A08123</td><td>Strawberry Fields Forever Puzzle</td><td>45.99</td><td>14</td></tr>",
                            "<tr><td>A22444</td><td>Mombasa</td><td>41.00</td><td>15</td></tr>",
                            "<tr><td>A23441</td><td>New York City Monopoly Game Collector's Edition</td><td>29.95</td><td>10</td></tr>",
                            "<tr><td>A23771</td><td>Mysterium</td><td>132.99</td><td>12</td></tr>",
                            "<tr><td>A25698</td><td>USA License Plate 1000 Piece Puzzle</td><td>18.99</td><td>14</td></tr>",
                            "<tr><td>A34665</td><td>Boggle Deluxe 5x5</td><td>34.95</td><td>10</td></tr>",
                            "<tr><td>A34882</td><td>Falling Sky</td><td>99.99</td><td>10</td></tr>",
                            "<tr><td>A45111</td><td>How to Host a Murder - An Affair to Dismember</td><td>28.95</td><td>15</td></tr>",
                            "<tr><td>A89222</td><td>Pandante</td><td>125.99</td><td>19</td></tr>",
                            "<tr><td>A89437</td><td>Geode 3000 Piece Puzzle</td><td>64.99</td><td>14</td></tr>",
                            "<tr><td>B67123</td><td>Tiny Epic Galaxies</td><td>39.99</td><td>12</td></tr>",
                            "<tr><td>B67466</td><td>Diplomacy:  Game of Negotiation, Cunning and Deceit.</td><td>43.95</td><td>20</td></tr>",
                            "<tr><td>B78244</td><td>Code Names</td><td>19.95</td><td>15</td></tr>",
                            "<tr><td>B78500</td><td>Pandemic Legacy</td><td>59.99</td><td>12</td></tr>",
                            "<tr><td>C26133</td><td>Knowledge Management:  Create a Learning Organization</td><td>395.95</td><td>20</td></tr>",
                            "<tr><td>C29179</td><td>Managing Change:  The Game for an Executive Retreat</td><td>259.95</td><td>20</td></tr>",
                            "<tr><td>C34122</td><td>A Game of Strategy, Negotiation and Excitement for Office Retreats</td><td>169.95</td><td>20</td></tr>",
                            "<tr><td>C38141</td><td>Digital Transformation and Changing Work Environment</td><td>198.99</td><td>20</td></tr>",
                            "</table>"
                        ]
                    }
                },
                {
                    "output_type": "execute_result",
                    "metadata": {},
                    "execution_count": 41,
                    "data": {
                        "application/vnd.dataresource+json": {
                            "schema": {
                                "fields": [
                                    {
                                        "name": "ItemID"
                                    },
                                    {
                                        "name": "LocationID"
                                    },
                                    {
                                        "name": "QtyOnHand"
                                    }
                                ]
                            },
                            "data": [
                                {
                                    "0": "A08123",
                                    "1": "30",
                                    "2": "4"
                                },
                                {
                                    "0": "A23441",
                                    "1": "10",
                                    "2": "11"
                                },
                                {
                                    "0": "A23441",
                                    "1": "20",
                                    "2": "23"
                                },
                                {
                                    "0": "A23441",
                                    "1": "30",
                                    "2": "25"
                                },
                                {
                                    "0": "A23771",
                                    "1": "10",
                                    "2": "6"
                                },
                                {
                                    "0": "A23771",
                                    "1": "20",
                                    "2": "4"
                                },
                                {
                                    "0": "A23771",
                                    "1": "30",
                                    "2": "5"
                                },
                                {
                                    "0": "A25698",
                                    "1": "10",
                                    "2": "1"
                                },
                                {
                                    "0": "A34665",
                                    "1": "10",
                                    "2": "141"
                                },
                                {
                                    "0": "A34882",
                                    "1": "10",
                                    "2": "40"
                                },
                                {
                                    "0": "A34882",
                                    "1": "30",
                                    "2": "55"
                                },
                                {
                                    "0": "A45111",
                                    "1": "10",
                                    "2": "2"
                                },
                                {
                                    "0": "A45111",
                                    "1": "20",
                                    "2": "3"
                                },
                                {
                                    "0": "A45111",
                                    "1": "30",
                                    "2": "2"
                                },
                                {
                                    "0": "A89437",
                                    "1": "10",
                                    "2": "25"
                                },
                                {
                                    "0": "B67123",
                                    "1": "10",
                                    "2": "22"
                                },
                                {
                                    "0": "B67123",
                                    "1": "20",
                                    "2": "28"
                                },
                                {
                                    "0": "B67123",
                                    "1": "30",
                                    "2": "6"
                                },
                                {
                                    "0": "B67123",
                                    "1": "40",
                                    "2": "4"
                                },
                                {
                                    "0": "B67466",
                                    "1": "10",
                                    "2": "0"
                                },
                                {
                                    "0": "B67466",
                                    "1": "20",
                                    "2": "3"
                                },
                                {
                                    "0": "B67466",
                                    "1": "30",
                                    "2": "4"
                                },
                                {
                                    "0": "B78244",
                                    "1": "20",
                                    "2": "22"
                                },
                                {
                                    "0": "B78500",
                                    "1": "20",
                                    "2": "8"
                                },
                                {
                                    "0": "B78500",
                                    "1": "30",
                                    "2": "1"
                                },
                                {
                                    "0": "C29179",
                                    "1": "10",
                                    "2": "15"
                                },
                                {
                                    "0": "C29179",
                                    "1": "20",
                                    "2": "15"
                                },
                                {
                                    "0": "C34122",
                                    "1": "10",
                                    "2": "16"
                                },
                                {
                                    "0": "C34122",
                                    "1": "20",
                                    "2": "21"
                                },
                                {
                                    "0": "C38141",
                                    "1": "10",
                                    "2": "25"
                                },
                                {
                                    "0": "C38141",
                                    "1": "20",
                                    "2": "10"
                                }
                            ]
                        },
                        "text/html": [
                            "<table>",
                            "<tr><th>ItemID</th><th>LocationID</th><th>QtyOnHand</th></tr>",
                            "<tr><td>A08123</td><td>30</td><td>4</td></tr>",
                            "<tr><td>A23441</td><td>10</td><td>11</td></tr>",
                            "<tr><td>A23441</td><td>20</td><td>23</td></tr>",
                            "<tr><td>A23441</td><td>30</td><td>25</td></tr>",
                            "<tr><td>A23771</td><td>10</td><td>6</td></tr>",
                            "<tr><td>A23771</td><td>20</td><td>4</td></tr>",
                            "<tr><td>A23771</td><td>30</td><td>5</td></tr>",
                            "<tr><td>A25698</td><td>10</td><td>1</td></tr>",
                            "<tr><td>A34665</td><td>10</td><td>141</td></tr>",
                            "<tr><td>A34882</td><td>10</td><td>40</td></tr>",
                            "<tr><td>A34882</td><td>30</td><td>55</td></tr>",
                            "<tr><td>A45111</td><td>10</td><td>2</td></tr>",
                            "<tr><td>A45111</td><td>20</td><td>3</td></tr>",
                            "<tr><td>A45111</td><td>30</td><td>2</td></tr>",
                            "<tr><td>A89437</td><td>10</td><td>25</td></tr>",
                            "<tr><td>B67123</td><td>10</td><td>22</td></tr>",
                            "<tr><td>B67123</td><td>20</td><td>28</td></tr>",
                            "<tr><td>B67123</td><td>30</td><td>6</td></tr>",
                            "<tr><td>B67123</td><td>40</td><td>4</td></tr>",
                            "<tr><td>B67466</td><td>10</td><td>0</td></tr>",
                            "<tr><td>B67466</td><td>20</td><td>3</td></tr>",
                            "<tr><td>B67466</td><td>30</td><td>4</td></tr>",
                            "<tr><td>B78244</td><td>20</td><td>22</td></tr>",
                            "<tr><td>B78500</td><td>20</td><td>8</td></tr>",
                            "<tr><td>B78500</td><td>30</td><td>1</td></tr>",
                            "<tr><td>C29179</td><td>10</td><td>15</td></tr>",
                            "<tr><td>C29179</td><td>20</td><td>15</td></tr>",
                            "<tr><td>C34122</td><td>10</td><td>16</td></tr>",
                            "<tr><td>C34122</td><td>20</td><td>21</td></tr>",
                            "<tr><td>C38141</td><td>10</td><td>25</td></tr>",
                            "<tr><td>C38141</td><td>20</td><td>10</td></tr>",
                            "</table>"
                        ]
                    }
                },
                {
                    "output_type": "execute_result",
                    "metadata": {},
                    "execution_count": 41,
                    "data": {
                        "application/vnd.dataresource+json": {
                            "schema": {
                                "fields": [
                                    {
                                        "name": "HistoryID"
                                    },
                                    {
                                        "name": "ItemID"
                                    },
                                    {
                                        "name": "LastCostDate"
                                    },
                                    {
                                        "name": "LastCost"
                                    }
                                ]
                            },
                            "data": [
                                {
                                    "0": "1",
                                    "1": "A89437",
                                    "2": "2021-08-08 00:00:00.000",
                                    "3": "41.50"
                                },
                                {
                                    "0": "2",
                                    "1": "A89437",
                                    "2": "2021-09-12 00:00:00.000",
                                    "3": "38.75"
                                },
                                {
                                    "0": "3",
                                    "1": "A89437",
                                    "2": "2021-11-15 00:00:00.000",
                                    "3": "40.25"
                                },
                                {
                                    "0": "4",
                                    "1": "A25698",
                                    "2": "2021-04-10 00:00:00.000",
                                    "3": "10.25"
                                },
                                {
                                    "0": "5",
                                    "1": "A25698",
                                    "2": "2021-06-10 00:00:00.000",
                                    "3": "10.75"
                                },
                                {
                                    "0": "6",
                                    "1": "A23441",
                                    "2": "2019-01-06 00:00:00.000",
                                    "3": "10.25"
                                },
                                {
                                    "0": "7",
                                    "1": "A23441",
                                    "2": "2019-05-12 00:00:00.000",
                                    "3": "10.50"
                                },
                                {
                                    "0": "8",
                                    "1": "A22444",
                                    "2": "2022-01-10 00:00:00.000",
                                    "3": "61.75"
                                },
                                {
                                    "0": "9",
                                    "1": "A22444",
                                    "2": "2022-01-15 00:00:00.000",
                                    "3": "64.23"
                                },
                                {
                                    "0": "10",
                                    "1": "A22444",
                                    "2": "2022-02-10 00:00:00.000",
                                    "3": "58.61"
                                },
                                {
                                    "0": "11",
                                    "1": "A23441",
                                    "2": "2020-09-23 00:00:00.000",
                                    "3": "10.88"
                                },
                                {
                                    "0": "12",
                                    "1": "A23441",
                                    "2": "2021-07-07 00:00:00.000",
                                    "3": "11.15"
                                },
                                {
                                    "0": "13",
                                    "1": "A23441",
                                    "2": "2022-01-05 00:00:00.000",
                                    "3": "10.35"
                                },
                                {
                                    "0": "14",
                                    "1": "A34665",
                                    "2": "2021-01-12 00:00:00.000",
                                    "3": "15.00"
                                },
                                {
                                    "0": "15",
                                    "1": "A34665",
                                    "2": "2021-07-15 00:00:00.000",
                                    "3": "14.50"
                                },
                                {
                                    "0": "16",
                                    "1": "A34665",
                                    "2": "2021-12-28 00:00:00.000",
                                    "3": "14.35"
                                },
                                {
                                    "0": "17",
                                    "1": "A23771",
                                    "2": "2019-07-23 00:00:00.000",
                                    "3": "8.50"
                                },
                                {
                                    "0": "18",
                                    "1": "A23771",
                                    "2": "2021-12-05 00:00:00.000",
                                    "3": "9.15"
                                },
                                {
                                    "0": "19",
                                    "1": "A34882",
                                    "2": "2020-02-19 00:00:00.000",
                                    "3": "75.00"
                                },
                                {
                                    "0": "20",
                                    "1": "A34882",
                                    "2": "2021-09-12 00:00:00.000",
                                    "3": "67.00"
                                },
                                {
                                    "0": "21",
                                    "1": "A34882",
                                    "2": "2022-02-05 00:00:00.000",
                                    "3": "62.50"
                                },
                                {
                                    "0": "22",
                                    "1": "A34882",
                                    "2": "2021-02-28 00:00:00.000",
                                    "3": "66.25"
                                },
                                {
                                    "0": "23",
                                    "1": "A89222",
                                    "2": "2020-04-09 00:00:00.000",
                                    "3": "89.00"
                                },
                                {
                                    "0": "24",
                                    "1": "A89222",
                                    "2": "2020-09-12 00:00:00.000",
                                    "3": "64.00"
                                },
                                {
                                    "0": "25",
                                    "1": "A89222",
                                    "2": "2021-02-21 00:00:00.000",
                                    "3": "64.00"
                                },
                                {
                                    "0": "26",
                                    "1": "A89222",
                                    "2": "2021-08-22 00:00:00.000",
                                    "3": "66.00"
                                },
                                {
                                    "0": "27",
                                    "1": "A89222",
                                    "2": "2021-12-02 00:00:00.000",
                                    "3": "68.00"
                                },
                                {
                                    "0": "28",
                                    "1": "B67123",
                                    "2": "2021-08-08 00:00:00.000",
                                    "3": "14.50"
                                },
                                {
                                    "0": "29",
                                    "1": "B67123",
                                    "2": "2021-10-10 00:00:00.000",
                                    "3": "17.50"
                                },
                                {
                                    "0": "30",
                                    "1": "B67123",
                                    "2": "2022-01-10 00:00:00.000",
                                    "3": "12.50"
                                },
                                {
                                    "0": "31",
                                    "1": "B67123",
                                    "2": "2022-02-20 00:00:00.000",
                                    "3": "17.52"
                                },
                                {
                                    "0": "32",
                                    "1": "B67466",
                                    "2": "2020-07-07 00:00:00.000",
                                    "3": "22.50"
                                },
                                {
                                    "0": "33",
                                    "1": "B67466",
                                    "2": "2021-06-28 00:00:00.000",
                                    "3": "28.90"
                                },
                                {
                                    "0": "34",
                                    "1": "B67466",
                                    "2": "2021-09-12 00:00:00.000",
                                    "3": "31.00"
                                },
                                {
                                    "0": "35",
                                    "1": "B67466",
                                    "2": "2022-01-09 00:00:00.000",
                                    "3": "29.50"
                                },
                                {
                                    "0": "36",
                                    "1": "B67466",
                                    "2": "2022-02-14 00:00:00.000",
                                    "3": "29.67"
                                },
                                {
                                    "0": "37",
                                    "1": "B78244",
                                    "2": "2021-07-15 00:00:00.000",
                                    "3": "14.50"
                                },
                                {
                                    "0": "38",
                                    "1": "B78500",
                                    "2": "2021-07-15 00:00:00.000",
                                    "3": "18.00"
                                },
                                {
                                    "0": "39",
                                    "1": "B78500",
                                    "2": "2021-09-25 00:00:00.000",
                                    "3": "21.00"
                                },
                                {
                                    "0": "40",
                                    "1": "B78500",
                                    "2": "2021-11-25 00:00:00.000",
                                    "3": "28.16"
                                },
                                {
                                    "0": "41",
                                    "1": "B78500",
                                    "2": "2022-02-10 00:00:00.000",
                                    "3": "20.35"
                                },
                                {
                                    "0": "42",
                                    "1": "C34122",
                                    "2": "2019-02-06 00:00:00.000",
                                    "3": "45.00"
                                },
                                {
                                    "0": "43",
                                    "1": "C34122",
                                    "2": "2020-02-06 00:00:00.000",
                                    "3": "48.00"
                                },
                                {
                                    "0": "44",
                                    "1": "C34122",
                                    "2": "2021-02-06 00:00:00.000",
                                    "3": "51.00"
                                },
                                {
                                    "0": "45",
                                    "1": "C29179",
                                    "2": "2021-08-07 00:00:00.000",
                                    "3": "160.00"
                                },
                                {
                                    "0": "46",
                                    "1": "C29179",
                                    "2": "2022-01-17 00:00:00.000",
                                    "3": "158.85"
                                },
                                {
                                    "0": "47",
                                    "1": "C26133",
                                    "2": "2020-07-13 00:00:00.000",
                                    "3": "200.00"
                                },
                                {
                                    "0": "48",
                                    "1": "C26133",
                                    "2": "2021-07-23 00:00:00.000",
                                    "3": "225.00"
                                },
                                {
                                    "0": "49",
                                    "1": "C26133",
                                    "2": "2021-09-18 00:00:00.000",
                                    "3": "235.75"
                                },
                                {
                                    "0": "50",
                                    "1": "C26133",
                                    "2": "2022-02-15 00:00:00.000",
                                    "3": "212.25"
                                },
                                {
                                    "0": "51",
                                    "1": "C26133",
                                    "2": "2022-01-15 00:00:00.000",
                                    "3": "211.25"
                                },
                                {
                                    "0": "52",
                                    "1": "B78500",
                                    "2": "2021-03-21 00:00:00.000",
                                    "3": "18.95"
                                },
                                {
                                    "0": "53",
                                    "1": "B67123",
                                    "2": "2021-10-21 00:00:00.000",
                                    "3": "18.80"
                                },
                                {
                                    "0": "54",
                                    "1": "B67123",
                                    "2": "2022-02-02 00:00:00.000",
                                    "3": "21.80"
                                },
                                {
                                    "0": "55",
                                    "1": "A23441",
                                    "2": "2022-02-02 00:00:00.000",
                                    "3": "12.50"
                                },
                                {
                                    "0": "56",
                                    "1": "A23441",
                                    "2": "2022-01-02 00:00:00.000",
                                    "3": "12.50"
                                },
                                {
                                    "0": "57",
                                    "1": "A23441",
                                    "2": "2021-11-08 00:00:00.000",
                                    "3": "14.75"
                                },
                                {
                                    "0": "58",
                                    "1": "C34122",
                                    "2": "2022-02-02 00:00:00.000",
                                    "3": "58.50"
                                },
                                {
                                    "0": "59",
                                    "1": "A22444",
                                    "2": "2021-12-15 00:00:00.000",
                                    "3": "65.25"
                                },
                                {
                                    "0": "60",
                                    "1": "C38141",
                                    "2": "2022-01-15 00:00:00.000",
                                    "3": "65.90"
                                },
                                {
                                    "0": "61",
                                    "1": "C38141",
                                    "2": "2022-02-02 00:00:00.000",
                                    "3": "58.65"
                                },
                                {
                                    "0": "62",
                                    "1": "A08123",
                                    "2": "2022-02-12 00:00:00.000",
                                    "3": "12.30"
                                },
                                {
                                    "0": "63",
                                    "1": "A08123",
                                    "2": "2022-02-15 00:00:00.000",
                                    "3": "14.20"
                                }
                            ]
                        },
                        "text/html": [
                            "<table>",
                            "<tr><th>HistoryID</th><th>ItemID</th><th>LastCostDate</th><th>LastCost</th></tr>",
                            "<tr><td>1</td><td>A89437</td><td>2021-08-08 00:00:00.000</td><td>41.50</td></tr>",
                            "<tr><td>2</td><td>A89437</td><td>2021-09-12 00:00:00.000</td><td>38.75</td></tr>",
                            "<tr><td>3</td><td>A89437</td><td>2021-11-15 00:00:00.000</td><td>40.25</td></tr>",
                            "<tr><td>4</td><td>A25698</td><td>2021-04-10 00:00:00.000</td><td>10.25</td></tr>",
                            "<tr><td>5</td><td>A25698</td><td>2021-06-10 00:00:00.000</td><td>10.75</td></tr>",
                            "<tr><td>6</td><td>A23441</td><td>2019-01-06 00:00:00.000</td><td>10.25</td></tr>",
                            "<tr><td>7</td><td>A23441</td><td>2019-05-12 00:00:00.000</td><td>10.50</td></tr>",
                            "<tr><td>8</td><td>A22444</td><td>2022-01-10 00:00:00.000</td><td>61.75</td></tr>",
                            "<tr><td>9</td><td>A22444</td><td>2022-01-15 00:00:00.000</td><td>64.23</td></tr>",
                            "<tr><td>10</td><td>A22444</td><td>2022-02-10 00:00:00.000</td><td>58.61</td></tr>",
                            "<tr><td>11</td><td>A23441</td><td>2020-09-23 00:00:00.000</td><td>10.88</td></tr>",
                            "<tr><td>12</td><td>A23441</td><td>2021-07-07 00:00:00.000</td><td>11.15</td></tr>",
                            "<tr><td>13</td><td>A23441</td><td>2022-01-05 00:00:00.000</td><td>10.35</td></tr>",
                            "<tr><td>14</td><td>A34665</td><td>2021-01-12 00:00:00.000</td><td>15.00</td></tr>",
                            "<tr><td>15</td><td>A34665</td><td>2021-07-15 00:00:00.000</td><td>14.50</td></tr>",
                            "<tr><td>16</td><td>A34665</td><td>2021-12-28 00:00:00.000</td><td>14.35</td></tr>",
                            "<tr><td>17</td><td>A23771</td><td>2019-07-23 00:00:00.000</td><td>8.50</td></tr>",
                            "<tr><td>18</td><td>A23771</td><td>2021-12-05 00:00:00.000</td><td>9.15</td></tr>",
                            "<tr><td>19</td><td>A34882</td><td>2020-02-19 00:00:00.000</td><td>75.00</td></tr>",
                            "<tr><td>20</td><td>A34882</td><td>2021-09-12 00:00:00.000</td><td>67.00</td></tr>",
                            "<tr><td>21</td><td>A34882</td><td>2022-02-05 00:00:00.000</td><td>62.50</td></tr>",
                            "<tr><td>22</td><td>A34882</td><td>2021-02-28 00:00:00.000</td><td>66.25</td></tr>",
                            "<tr><td>23</td><td>A89222</td><td>2020-04-09 00:00:00.000</td><td>89.00</td></tr>",
                            "<tr><td>24</td><td>A89222</td><td>2020-09-12 00:00:00.000</td><td>64.00</td></tr>",
                            "<tr><td>25</td><td>A89222</td><td>2021-02-21 00:00:00.000</td><td>64.00</td></tr>",
                            "<tr><td>26</td><td>A89222</td><td>2021-08-22 00:00:00.000</td><td>66.00</td></tr>",
                            "<tr><td>27</td><td>A89222</td><td>2021-12-02 00:00:00.000</td><td>68.00</td></tr>",
                            "<tr><td>28</td><td>B67123</td><td>2021-08-08 00:00:00.000</td><td>14.50</td></tr>",
                            "<tr><td>29</td><td>B67123</td><td>2021-10-10 00:00:00.000</td><td>17.50</td></tr>",
                            "<tr><td>30</td><td>B67123</td><td>2022-01-10 00:00:00.000</td><td>12.50</td></tr>",
                            "<tr><td>31</td><td>B67123</td><td>2022-02-20 00:00:00.000</td><td>17.52</td></tr>",
                            "<tr><td>32</td><td>B67466</td><td>2020-07-07 00:00:00.000</td><td>22.50</td></tr>",
                            "<tr><td>33</td><td>B67466</td><td>2021-06-28 00:00:00.000</td><td>28.90</td></tr>",
                            "<tr><td>34</td><td>B67466</td><td>2021-09-12 00:00:00.000</td><td>31.00</td></tr>",
                            "<tr><td>35</td><td>B67466</td><td>2022-01-09 00:00:00.000</td><td>29.50</td></tr>",
                            "<tr><td>36</td><td>B67466</td><td>2022-02-14 00:00:00.000</td><td>29.67</td></tr>",
                            "<tr><td>37</td><td>B78244</td><td>2021-07-15 00:00:00.000</td><td>14.50</td></tr>",
                            "<tr><td>38</td><td>B78500</td><td>2021-07-15 00:00:00.000</td><td>18.00</td></tr>",
                            "<tr><td>39</td><td>B78500</td><td>2021-09-25 00:00:00.000</td><td>21.00</td></tr>",
                            "<tr><td>40</td><td>B78500</td><td>2021-11-25 00:00:00.000</td><td>28.16</td></tr>",
                            "<tr><td>41</td><td>B78500</td><td>2022-02-10 00:00:00.000</td><td>20.35</td></tr>",
                            "<tr><td>42</td><td>C34122</td><td>2019-02-06 00:00:00.000</td><td>45.00</td></tr>",
                            "<tr><td>43</td><td>C34122</td><td>2020-02-06 00:00:00.000</td><td>48.00</td></tr>",
                            "<tr><td>44</td><td>C34122</td><td>2021-02-06 00:00:00.000</td><td>51.00</td></tr>",
                            "<tr><td>45</td><td>C29179</td><td>2021-08-07 00:00:00.000</td><td>160.00</td></tr>",
                            "<tr><td>46</td><td>C29179</td><td>2022-01-17 00:00:00.000</td><td>158.85</td></tr>",
                            "<tr><td>47</td><td>C26133</td><td>2020-07-13 00:00:00.000</td><td>200.00</td></tr>",
                            "<tr><td>48</td><td>C26133</td><td>2021-07-23 00:00:00.000</td><td>225.00</td></tr>",
                            "<tr><td>49</td><td>C26133</td><td>2021-09-18 00:00:00.000</td><td>235.75</td></tr>",
                            "<tr><td>50</td><td>C26133</td><td>2022-02-15 00:00:00.000</td><td>212.25</td></tr>",
                            "<tr><td>51</td><td>C26133</td><td>2022-01-15 00:00:00.000</td><td>211.25</td></tr>",
                            "<tr><td>52</td><td>B78500</td><td>2021-03-21 00:00:00.000</td><td>18.95</td></tr>",
                            "<tr><td>53</td><td>B67123</td><td>2021-10-21 00:00:00.000</td><td>18.80</td></tr>",
                            "<tr><td>54</td><td>B67123</td><td>2022-02-02 00:00:00.000</td><td>21.80</td></tr>",
                            "<tr><td>55</td><td>A23441</td><td>2022-02-02 00:00:00.000</td><td>12.50</td></tr>",
                            "<tr><td>56</td><td>A23441</td><td>2022-01-02 00:00:00.000</td><td>12.50</td></tr>",
                            "<tr><td>57</td><td>A23441</td><td>2021-11-08 00:00:00.000</td><td>14.75</td></tr>",
                            "<tr><td>58</td><td>C34122</td><td>2022-02-02 00:00:00.000</td><td>58.50</td></tr>",
                            "<tr><td>59</td><td>A22444</td><td>2021-12-15 00:00:00.000</td><td>65.25</td></tr>",
                            "<tr><td>60</td><td>C38141</td><td>2022-01-15 00:00:00.000</td><td>65.90</td></tr>",
                            "<tr><td>61</td><td>C38141</td><td>2022-02-02 00:00:00.000</td><td>58.65</td></tr>",
                            "<tr><td>62</td><td>A08123</td><td>2022-02-12 00:00:00.000</td><td>12.30</td></tr>",
                            "<tr><td>63</td><td>A08123</td><td>2022-02-15 00:00:00.000</td><td>14.20</td></tr>",
                            "</table>"
                        ]
                    }
                },
                {
                    "output_type": "execute_result",
                    "metadata": {},
                    "execution_count": 41,
                    "data": {
                        "application/vnd.dataresource+json": {
                            "schema": {
                                "fields": [
                                    {
                                        "name": "OrderID"
                                    },
                                    {
                                        "name": "ItemID"
                                    },
                                    {
                                        "name": "QtyOrdered"
                                    },
                                    {
                                        "name": "Price"
                                    },
                                    {
                                        "name": "AddressID"
                                    }
                                ]
                            },
                            "data": [
                                {
                                    "0": "123000",
                                    "1": "A23441",
                                    "2": "8",
                                    "3": "29.95",
                                    "4": "NULL"
                                },
                                {
                                    "0": "123000",
                                    "1": "A34665",
                                    "2": "30",
                                    "3": "37.95",
                                    "4": "65"
                                },
                                {
                                    "0": "123000",
                                    "1": "B67123",
                                    "2": "5",
                                    "3": "389.99",
                                    "4": "NULL"
                                },
                                {
                                    "0": "200335",
                                    "1": "A23441",
                                    "2": "1",
                                    "3": "29.95",
                                    "4": "NULL"
                                },
                                {
                                    "0": "200335",
                                    "1": "A34665",
                                    "2": "1",
                                    "3": "34.95",
                                    "4": "NULL"
                                },
                                {
                                    "0": "200335",
                                    "1": "B67123",
                                    "2": "1",
                                    "3": "39.99",
                                    "4": "NULL"
                                },
                                {
                                    "0": "200335",
                                    "1": "B67466",
                                    "2": "1",
                                    "3": "43.95",
                                    "4": "NULL"
                                },
                                {
                                    "0": "223344",
                                    "1": "A23441",
                                    "2": "55",
                                    "3": "29.95",
                                    "4": "60"
                                },
                                {
                                    "0": "223344",
                                    "1": "A23771",
                                    "2": "15",
                                    "3": "122.99",
                                    "4": "50"
                                },
                                {
                                    "0": "223344",
                                    "1": "A34665",
                                    "2": "100",
                                    "3": "23.95",
                                    "4": "50"
                                },
                                {
                                    "0": "223344",
                                    "1": "A34882",
                                    "2": "35",
                                    "3": "7.95",
                                    "4": "60"
                                },
                                {
                                    "0": "223344",
                                    "1": "B67123",
                                    "2": "25",
                                    "3": "34.95",
                                    "4": "40"
                                },
                                {
                                    "0": "223344",
                                    "1": "B67466",
                                    "2": "15",
                                    "3": "40.95",
                                    "4": "60"
                                },
                                {
                                    "0": "300221",
                                    "1": "A23771",
                                    "2": "1",
                                    "3": "145.99",
                                    "4": "NULL"
                                },
                                {
                                    "0": "300221",
                                    "1": "A34665",
                                    "2": "1",
                                    "3": "35.95",
                                    "4": "NULL"
                                },
                                {
                                    "0": "300221",
                                    "1": "A34882",
                                    "2": "1",
                                    "3": "92.99",
                                    "4": "NULL"
                                },
                                {
                                    "0": "300221",
                                    "1": "B67123",
                                    "2": "1",
                                    "3": "39.99",
                                    "4": "NULL"
                                },
                                {
                                    "0": "300221",
                                    "1": "B78244",
                                    "2": "1",
                                    "3": "19.95",
                                    "4": "NULL"
                                },
                                {
                                    "0": "381921",
                                    "1": "C29179",
                                    "2": "10",
                                    "3": "265.99",
                                    "4": "NULL"
                                },
                                {
                                    "0": "381921",
                                    "1": "C38141",
                                    "2": "5",
                                    "3": "215.99",
                                    "4": "NULL"
                                },
                                {
                                    "0": "400001",
                                    "1": "C26133",
                                    "2": "1",
                                    "3": "395.95",
                                    "4": "NULL"
                                },
                                {
                                    "0": "421988",
                                    "1": "B67466",
                                    "2": "2",
                                    "3": "43.95",
                                    "4": "NULL"
                                },
                                {
                                    "0": "445511",
                                    "1": "C34122",
                                    "2": "3",
                                    "3": "269.95",
                                    "4": "NULL"
                                },
                                {
                                    "0": "450137",
                                    "1": "A23771",
                                    "2": "16",
                                    "3": "135.99",
                                    "4": "NULL"
                                },
                                {
                                    "0": "450137",
                                    "1": "A34665",
                                    "2": "10",
                                    "3": "31.00",
                                    "4": "NULL"
                                },
                                {
                                    "0": "450137",
                                    "1": "A34882",
                                    "2": "50",
                                    "3": "85.99",
                                    "4": "85"
                                },
                                {
                                    "0": "450137",
                                    "1": "B67123",
                                    "2": "21",
                                    "3": "14.95",
                                    "4": "20"
                                },
                                {
                                    "0": "450137",
                                    "1": "B67466",
                                    "2": "9",
                                    "3": "41.95",
                                    "4": "65"
                                },
                                {
                                    "0": "450137",
                                    "1": "C26133",
                                    "2": "4",
                                    "3": "398.95",
                                    "4": "10"
                                },
                                {
                                    "0": "450137",
                                    "1": "C34122",
                                    "2": "6",
                                    "3": "167.95",
                                    "4": "NULL"
                                },
                                {
                                    "0": "567123",
                                    "1": "C26133",
                                    "2": "1",
                                    "3": "395.95",
                                    "4": "NULL"
                                },
                                {
                                    "0": "651222",
                                    "1": "A34665",
                                    "2": "5",
                                    "3": "37.95",
                                    "4": "NULL"
                                },
                                {
                                    "0": "651222",
                                    "1": "A34882",
                                    "2": "16",
                                    "3": "90.99",
                                    "4": "40"
                                },
                                {
                                    "0": "651222",
                                    "1": "B78244",
                                    "2": "21",
                                    "3": "17.99",
                                    "4": "NULL"
                                },
                                {
                                    "0": "671100",
                                    "1": "C29179",
                                    "2": "1",
                                    "3": "259.95",
                                    "4": "NULL"
                                },
                                {
                                    "0": "781206",
                                    "1": "B67466",
                                    "2": "1",
                                    "3": "43.95",
                                    "4": "80"
                                },
                                {
                                    "0": "781206",
                                    "1": "C29179",
                                    "2": "2",
                                    "3": "280.00",
                                    "4": "30"
                                },
                                {
                                    "0": "828211",
                                    "1": "A25698",
                                    "2": "2",
                                    "3": "16.99",
                                    "4": "70"
                                },
                                {
                                    "0": "828211",
                                    "1": "A89437",
                                    "2": "5",
                                    "3": "75.99",
                                    "4": "NULL"
                                },
                                {
                                    "0": "892211",
                                    "1": "C26133",
                                    "2": "15",
                                    "3": "380.00",
                                    "4": "10"
                                },
                                {
                                    "0": "892211",
                                    "1": "C29179",
                                    "2": "10",
                                    "3": "259.95",
                                    "4": "50"
                                },
                                {
                                    "0": "892211",
                                    "1": "C34122",
                                    "2": "8",
                                    "3": "200.00",
                                    "4": "10"
                                },
                                {
                                    "0": "980001",
                                    "1": "C29179",
                                    "2": "3",
                                    "3": "275.99",
                                    "4": "85"
                                },
                                {
                                    "0": "980001",
                                    "1": "C34122",
                                    "2": "2",
                                    "3": "169.95",
                                    "4": "40"
                                },
                                {
                                    "0": "983983",
                                    "1": "A23771",
                                    "2": "1",
                                    "3": "135.99",
                                    "4": "NULL"
                                },
                                {
                                    "0": "983983",
                                    "1": "B78244",
                                    "2": "18",
                                    "3": "18.95",
                                    "4": "NULL"
                                }
                            ]
                        },
                        "text/html": [
                            "<table>",
                            "<tr><th>OrderID</th><th>ItemID</th><th>QtyOrdered</th><th>Price</th><th>AddressID</th></tr>",
                            "<tr><td>123000</td><td>A23441</td><td>8</td><td>29.95</td><td>NULL</td></tr>",
                            "<tr><td>123000</td><td>A34665</td><td>30</td><td>37.95</td><td>65</td></tr>",
                            "<tr><td>123000</td><td>B67123</td><td>5</td><td>389.99</td><td>NULL</td></tr>",
                            "<tr><td>200335</td><td>A23441</td><td>1</td><td>29.95</td><td>NULL</td></tr>",
                            "<tr><td>200335</td><td>A34665</td><td>1</td><td>34.95</td><td>NULL</td></tr>",
                            "<tr><td>200335</td><td>B67123</td><td>1</td><td>39.99</td><td>NULL</td></tr>",
                            "<tr><td>200335</td><td>B67466</td><td>1</td><td>43.95</td><td>NULL</td></tr>",
                            "<tr><td>223344</td><td>A23441</td><td>55</td><td>29.95</td><td>60</td></tr>",
                            "<tr><td>223344</td><td>A23771</td><td>15</td><td>122.99</td><td>50</td></tr>",
                            "<tr><td>223344</td><td>A34665</td><td>100</td><td>23.95</td><td>50</td></tr>",
                            "<tr><td>223344</td><td>A34882</td><td>35</td><td>7.95</td><td>60</td></tr>",
                            "<tr><td>223344</td><td>B67123</td><td>25</td><td>34.95</td><td>40</td></tr>",
                            "<tr><td>223344</td><td>B67466</td><td>15</td><td>40.95</td><td>60</td></tr>",
                            "<tr><td>300221</td><td>A23771</td><td>1</td><td>145.99</td><td>NULL</td></tr>",
                            "<tr><td>300221</td><td>A34665</td><td>1</td><td>35.95</td><td>NULL</td></tr>",
                            "<tr><td>300221</td><td>A34882</td><td>1</td><td>92.99</td><td>NULL</td></tr>",
                            "<tr><td>300221</td><td>B67123</td><td>1</td><td>39.99</td><td>NULL</td></tr>",
                            "<tr><td>300221</td><td>B78244</td><td>1</td><td>19.95</td><td>NULL</td></tr>",
                            "<tr><td>381921</td><td>C29179</td><td>10</td><td>265.99</td><td>NULL</td></tr>",
                            "<tr><td>381921</td><td>C38141</td><td>5</td><td>215.99</td><td>NULL</td></tr>",
                            "<tr><td>400001</td><td>C26133</td><td>1</td><td>395.95</td><td>NULL</td></tr>",
                            "<tr><td>421988</td><td>B67466</td><td>2</td><td>43.95</td><td>NULL</td></tr>",
                            "<tr><td>445511</td><td>C34122</td><td>3</td><td>269.95</td><td>NULL</td></tr>",
                            "<tr><td>450137</td><td>A23771</td><td>16</td><td>135.99</td><td>NULL</td></tr>",
                            "<tr><td>450137</td><td>A34665</td><td>10</td><td>31.00</td><td>NULL</td></tr>",
                            "<tr><td>450137</td><td>A34882</td><td>50</td><td>85.99</td><td>85</td></tr>",
                            "<tr><td>450137</td><td>B67123</td><td>21</td><td>14.95</td><td>20</td></tr>",
                            "<tr><td>450137</td><td>B67466</td><td>9</td><td>41.95</td><td>65</td></tr>",
                            "<tr><td>450137</td><td>C26133</td><td>4</td><td>398.95</td><td>10</td></tr>",
                            "<tr><td>450137</td><td>C34122</td><td>6</td><td>167.95</td><td>NULL</td></tr>",
                            "<tr><td>567123</td><td>C26133</td><td>1</td><td>395.95</td><td>NULL</td></tr>",
                            "<tr><td>651222</td><td>A34665</td><td>5</td><td>37.95</td><td>NULL</td></tr>",
                            "<tr><td>651222</td><td>A34882</td><td>16</td><td>90.99</td><td>40</td></tr>",
                            "<tr><td>651222</td><td>B78244</td><td>21</td><td>17.99</td><td>NULL</td></tr>",
                            "<tr><td>671100</td><td>C29179</td><td>1</td><td>259.95</td><td>NULL</td></tr>",
                            "<tr><td>781206</td><td>B67466</td><td>1</td><td>43.95</td><td>80</td></tr>",
                            "<tr><td>781206</td><td>C29179</td><td>2</td><td>280.00</td><td>30</td></tr>",
                            "<tr><td>828211</td><td>A25698</td><td>2</td><td>16.99</td><td>70</td></tr>",
                            "<tr><td>828211</td><td>A89437</td><td>5</td><td>75.99</td><td>NULL</td></tr>",
                            "<tr><td>892211</td><td>C26133</td><td>15</td><td>380.00</td><td>10</td></tr>",
                            "<tr><td>892211</td><td>C29179</td><td>10</td><td>259.95</td><td>50</td></tr>",
                            "<tr><td>892211</td><td>C34122</td><td>8</td><td>200.00</td><td>10</td></tr>",
                            "<tr><td>980001</td><td>C29179</td><td>3</td><td>275.99</td><td>85</td></tr>",
                            "<tr><td>980001</td><td>C34122</td><td>2</td><td>169.95</td><td>40</td></tr>",
                            "<tr><td>983983</td><td>A23771</td><td>1</td><td>135.99</td><td>NULL</td></tr>",
                            "<tr><td>983983</td><td>B78244</td><td>18</td><td>18.95</td><td>NULL</td></tr>",
                            "</table>"
                        ]
                    }
                },
                {
                    "output_type": "execute_result",
                    "metadata": {},
                    "execution_count": 41,
                    "data": {
                        "application/vnd.dataresource+json": {
                            "schema": {
                                "fields": [
                                    {
                                        "name": "ShipLineID"
                                    },
                                    {
                                        "name": "DateShipped"
                                    },
                                    {
                                        "name": "OrderID"
                                    },
                                    {
                                        "name": "ItemID"
                                    },
                                    {
                                        "name": "LocationID"
                                    },
                                    {
                                        "name": "QtyShipped"
                                    },
                                    {
                                        "name": "MethodShipped"
                                    }
                                ]
                            },
                            "data": [
                                {
                                    "0": "1",
                                    "1": "2022-02-15 08:00:00.000",
                                    "2": "123000",
                                    "3": "A23441",
                                    "4": "20",
                                    "5": "8",
                                    "6": "UPS"
                                },
                                {
                                    "0": "2",
                                    "1": "2022-02-15 08:00:00.000",
                                    "2": "123000",
                                    "3": "A34665",
                                    "4": "10",
                                    "5": "32",
                                    "6": "UPS"
                                },
                                {
                                    "0": "3",
                                    "1": "2022-02-25 09:00:00.000",
                                    "2": "123000",
                                    "3": "B67123",
                                    "4": "10",
                                    "5": "5",
                                    "6": "UPS"
                                },
                                {
                                    "0": "4",
                                    "1": "2022-02-05 08:52:00.000",
                                    "2": "980001",
                                    "3": "C34122",
                                    "4": "10",
                                    "5": "2",
                                    "6": "FEDEX"
                                },
                                {
                                    "0": "5",
                                    "1": "2022-02-06 11:21:00.000",
                                    "2": "980001",
                                    "3": "C29179",
                                    "4": "10",
                                    "5": "3",
                                    "6": "FEDex"
                                },
                                {
                                    "0": "6",
                                    "1": "2022-02-25 23:44:00.000",
                                    "2": "671100",
                                    "3": "C29179",
                                    "4": "10",
                                    "5": "1",
                                    "6": "UPS"
                                },
                                {
                                    "0": "7",
                                    "1": "2022-02-10 14:18:00.000",
                                    "2": "223344",
                                    "3": "A23441",
                                    "4": "10",
                                    "5": "3",
                                    "6": "UPS"
                                },
                                {
                                    "0": "8",
                                    "1": "2022-02-10 08:22:00.000",
                                    "2": "223344",
                                    "3": "A23441",
                                    "4": "20",
                                    "5": "20",
                                    "6": "UPS"
                                },
                                {
                                    "0": "9",
                                    "1": "2022-02-12 08:12:00.000",
                                    "2": "223344",
                                    "3": "A23441",
                                    "4": "20",
                                    "5": "5",
                                    "6": "Ups"
                                },
                                {
                                    "0": "10",
                                    "1": "2022-02-10 10:15:00.000",
                                    "2": "223344",
                                    "3": "A34665",
                                    "4": "10",
                                    "5": "45",
                                    "6": "UPs"
                                },
                                {
                                    "0": "11",
                                    "1": "2022-02-12 10:16:00.000",
                                    "2": "223344",
                                    "3": "A34665",
                                    "4": "10",
                                    "5": "65",
                                    "6": "ups"
                                },
                                {
                                    "0": "12",
                                    "1": "2022-02-10 10:17:00.000",
                                    "2": "223344",
                                    "3": "A23771",
                                    "4": "10",
                                    "5": "8",
                                    "6": "ups"
                                },
                                {
                                    "0": "13",
                                    "1": "2022-02-10 19:34:00.000",
                                    "2": "223344",
                                    "3": "A23771",
                                    "4": "20",
                                    "5": "2",
                                    "6": "UPS"
                                },
                                {
                                    "0": "14",
                                    "1": "2022-02-11 19:57:00.000",
                                    "2": "223344",
                                    "3": "A23771",
                                    "4": "30",
                                    "5": "5",
                                    "6": "UPS"
                                },
                                {
                                    "0": "15",
                                    "1": "2022-02-10 19:01:00.000",
                                    "2": "223344",
                                    "3": "A34882",
                                    "4": "10",
                                    "5": "15",
                                    "6": "fedEX"
                                },
                                {
                                    "0": "16",
                                    "1": "2022-02-10 19:53:00.000",
                                    "2": "223344",
                                    "3": "B67123",
                                    "4": "10",
                                    "5": "13",
                                    "6": "UPS"
                                },
                                {
                                    "0": "17",
                                    "1": "2022-02-12 20:21:00.000",
                                    "2": "223344",
                                    "3": "A34882",
                                    "4": "10",
                                    "5": "20",
                                    "6": "UPS"
                                },
                                {
                                    "0": "18",
                                    "1": "2022-02-16 20:23:00.000",
                                    "2": "445511",
                                    "3": "C34122",
                                    "4": "10",
                                    "5": "3",
                                    "6": "FeDEX"
                                },
                                {
                                    "0": "19",
                                    "1": "2022-03-02 20:24:00.000",
                                    "2": "651222",
                                    "3": "A34665",
                                    "4": "10",
                                    "5": "2",
                                    "6": "UPS"
                                },
                                {
                                    "0": "20",
                                    "1": "2022-03-04 20:25:00.000",
                                    "2": "651222",
                                    "3": "A34665",
                                    "4": "10",
                                    "5": "3",
                                    "6": "UPS"
                                },
                                {
                                    "0": "21",
                                    "1": "2022-03-02 20:24:00.000",
                                    "2": "651222",
                                    "3": "A34882",
                                    "4": "10",
                                    "5": "5",
                                    "6": "UPS"
                                },
                                {
                                    "0": "22",
                                    "1": "2022-03-05 17:33:00.000",
                                    "2": "651222",
                                    "3": "A34882",
                                    "4": "10",
                                    "5": "7",
                                    "6": "FedEX"
                                },
                                {
                                    "0": "23",
                                    "1": "2022-03-06 16:00:00.000",
                                    "2": "651222",
                                    "3": "B78244",
                                    "4": "20",
                                    "5": "21",
                                    "6": "ups"
                                },
                                {
                                    "0": "24",
                                    "1": "2022-03-19 12:33:00.000",
                                    "2": "651222",
                                    "3": "A34882",
                                    "4": "10",
                                    "5": "1",
                                    "6": "UPS"
                                },
                                {
                                    "0": "25",
                                    "1": "2022-02-10 16:00:00.000",
                                    "2": "300221",
                                    "3": "A34665",
                                    "4": "10",
                                    "5": "1",
                                    "6": "UPS"
                                },
                                {
                                    "0": "26",
                                    "1": "2022-02-05 08:00:00.000",
                                    "2": "300221",
                                    "3": "A23771",
                                    "4": "20",
                                    "5": "1",
                                    "6": "Ups"
                                },
                                {
                                    "0": "27",
                                    "1": "2022-02-12 08:45:00.000",
                                    "2": "300221",
                                    "3": "A34882",
                                    "4": "10",
                                    "5": "1",
                                    "6": "UPs"
                                },
                                {
                                    "0": "28",
                                    "1": "2022-02-20 10:04:00.000",
                                    "2": "300221",
                                    "3": "B67123",
                                    "4": "10",
                                    "5": "1",
                                    "6": "UpS"
                                },
                                {
                                    "0": "29",
                                    "1": "2022-02-05 10:11:00.000",
                                    "2": "300221",
                                    "3": "B78244",
                                    "4": "20",
                                    "5": "1",
                                    "6": "UPS"
                                },
                                {
                                    "0": "30",
                                    "1": "2022-01-23 18:33:00.000",
                                    "2": "892211",
                                    "3": "C34122",
                                    "4": "20",
                                    "5": "3",
                                    "6": "UPS"
                                },
                                {
                                    "0": "31",
                                    "1": "2022-01-23 19:11:00.000",
                                    "2": "892211",
                                    "3": "C34122",
                                    "4": "10",
                                    "5": "2",
                                    "6": "UPS"
                                },
                                {
                                    "0": "32",
                                    "1": "2022-01-23 19:32:00.000",
                                    "2": "892211",
                                    "3": "C29179",
                                    "4": "10",
                                    "5": "6",
                                    "6": "UPS"
                                },
                                {
                                    "0": "33",
                                    "1": "2022-01-27 20:43:00.000",
                                    "2": "450137",
                                    "3": "B67123",
                                    "4": "40",
                                    "5": "4",
                                    "6": "ups"
                                },
                                {
                                    "0": "34",
                                    "1": "2022-01-27 18:23:00.000",
                                    "2": "450137",
                                    "3": "B67123",
                                    "4": "20",
                                    "5": "3",
                                    "6": "UPS"
                                },
                                {
                                    "0": "35",
                                    "1": "2022-01-27 14:51:00.000",
                                    "2": "450137",
                                    "3": "B67123",
                                    "4": "30",
                                    "5": "14",
                                    "6": "Ups"
                                },
                                {
                                    "0": "36",
                                    "1": "2022-01-19 15:21:00.000",
                                    "2": "450137",
                                    "3": "B67123",
                                    "4": "20",
                                    "5": "8",
                                    "6": "ups"
                                },
                                {
                                    "0": "37",
                                    "1": "2022-02-21 15:22:00.000",
                                    "2": "450137",
                                    "3": "A34665",
                                    "4": "10",
                                    "5": "10",
                                    "6": "FeDeX"
                                },
                                {
                                    "0": "38",
                                    "1": "2022-03-02 13:44:00.000",
                                    "2": "450137",
                                    "3": "A34882",
                                    "4": "30",
                                    "5": "15",
                                    "6": "UpS"
                                },
                                {
                                    "0": "39",
                                    "1": "2022-02-19 09:00:00.000",
                                    "2": "200335",
                                    "3": "A23441",
                                    "4": "20",
                                    "5": "6",
                                    "6": "UPS"
                                },
                                {
                                    "0": "40",
                                    "1": "2022-02-19 09:00:00.000",
                                    "2": "781206",
                                    "3": "B67466",
                                    "4": "30",
                                    "5": "4",
                                    "6": "Amazon Freight"
                                },
                                {
                                    "0": "41",
                                    "1": "2022-02-21 09:56:00.000",
                                    "2": "200335",
                                    "3": "B67466",
                                    "4": "10",
                                    "5": "1",
                                    "6": "Amazon Freight"
                                },
                                {
                                    "0": "42",
                                    "1": "2022-02-22 10:13:00.000",
                                    "2": "223344",
                                    "3": "B67123",
                                    "4": "10",
                                    "5": "12",
                                    "6": "UPS"
                                },
                                {
                                    "0": "43",
                                    "1": "2022-02-22 11:13:00.000",
                                    "2": "892211",
                                    "3": "C29179",
                                    "4": "10",
                                    "5": "4",
                                    "6": "UPS"
                                },
                                {
                                    "0": "44",
                                    "1": "2022-02-22 11:15:00.000",
                                    "2": "651222",
                                    "3": "A34882",
                                    "4": "30",
                                    "5": "2",
                                    "6": "UPS"
                                },
                                {
                                    "0": "45",
                                    "1": "2022-03-01 11:19:00.000",
                                    "2": "651222",
                                    "3": "A34882",
                                    "4": "30",
                                    "5": "1",
                                    "6": "UPS"
                                },
                                {
                                    "0": "46",
                                    "1": "2022-02-28 12:01:00.000",
                                    "2": "651222",
                                    "3": "A34882",
                                    "4": "30",
                                    "5": "1",
                                    "6": "UPS"
                                },
                                {
                                    "0": "47",
                                    "1": "2022-03-01 13:35:00.000",
                                    "2": "223344",
                                    "3": "A23771",
                                    "4": "30",
                                    "5": "30",
                                    "6": "UPS"
                                },
                                {
                                    "0": "48",
                                    "1": "2022-03-01 14:02:00.000",
                                    "2": "450137",
                                    "3": "B67466",
                                    "4": "20",
                                    "5": "9",
                                    "6": "FedEx"
                                },
                                {
                                    "0": "49",
                                    "1": "2022-03-15 08:11:00.000",
                                    "2": "828211",
                                    "3": "A89437",
                                    "4": "10",
                                    "5": "6",
                                    "6": "UPS"
                                },
                                {
                                    "0": "50",
                                    "1": "2022-03-17 14:25:00.000",
                                    "2": "828211",
                                    "3": "A25698",
                                    "4": "10",
                                    "5": "1",
                                    "6": "UPS"
                                },
                                {
                                    "0": "51",
                                    "1": "2022-03-14 00:00:00.000",
                                    "2": "381921",
                                    "3": "C29179",
                                    "4": "10",
                                    "5": "10",
                                    "6": "USps"
                                },
                                {
                                    "0": "52",
                                    "1": "2022-03-15 00:00:00.000",
                                    "2": "381921",
                                    "3": "C29179",
                                    "4": "20",
                                    "5": "4",
                                    "6": "UPS"
                                },
                                {
                                    "0": "53",
                                    "1": "2022-03-14 00:00:00.000",
                                    "2": "381921",
                                    "3": "C38141",
                                    "4": "10",
                                    "5": "1",
                                    "6": "USps"
                                }
                            ]
                        },
                        "text/html": [
                            "<table>",
                            "<tr><th>ShipLineID</th><th>DateShipped</th><th>OrderID</th><th>ItemID</th><th>LocationID</th><th>QtyShipped</th><th>MethodShipped</th></tr>",
                            "<tr><td>1</td><td>2022-02-15 08:00:00.000</td><td>123000</td><td>A23441</td><td>20</td><td>8</td><td>UPS</td></tr>",
                            "<tr><td>2</td><td>2022-02-15 08:00:00.000</td><td>123000</td><td>A34665</td><td>10</td><td>32</td><td>UPS</td></tr>",
                            "<tr><td>3</td><td>2022-02-25 09:00:00.000</td><td>123000</td><td>B67123</td><td>10</td><td>5</td><td>UPS</td></tr>",
                            "<tr><td>4</td><td>2022-02-05 08:52:00.000</td><td>980001</td><td>C34122</td><td>10</td><td>2</td><td>FEDEX</td></tr>",
                            "<tr><td>5</td><td>2022-02-06 11:21:00.000</td><td>980001</td><td>C29179</td><td>10</td><td>3</td><td>FEDex</td></tr>",
                            "<tr><td>6</td><td>2022-02-25 23:44:00.000</td><td>671100</td><td>C29179</td><td>10</td><td>1</td><td>UPS</td></tr>",
                            "<tr><td>7</td><td>2022-02-10 14:18:00.000</td><td>223344</td><td>A23441</td><td>10</td><td>3</td><td>UPS</td></tr>",
                            "<tr><td>8</td><td>2022-02-10 08:22:00.000</td><td>223344</td><td>A23441</td><td>20</td><td>20</td><td>UPS</td></tr>",
                            "<tr><td>9</td><td>2022-02-12 08:12:00.000</td><td>223344</td><td>A23441</td><td>20</td><td>5</td><td>Ups</td></tr>",
                            "<tr><td>10</td><td>2022-02-10 10:15:00.000</td><td>223344</td><td>A34665</td><td>10</td><td>45</td><td>UPs</td></tr>",
                            "<tr><td>11</td><td>2022-02-12 10:16:00.000</td><td>223344</td><td>A34665</td><td>10</td><td>65</td><td>ups</td></tr>",
                            "<tr><td>12</td><td>2022-02-10 10:17:00.000</td><td>223344</td><td>A23771</td><td>10</td><td>8</td><td>ups</td></tr>",
                            "<tr><td>13</td><td>2022-02-10 19:34:00.000</td><td>223344</td><td>A23771</td><td>20</td><td>2</td><td>UPS</td></tr>",
                            "<tr><td>14</td><td>2022-02-11 19:57:00.000</td><td>223344</td><td>A23771</td><td>30</td><td>5</td><td>UPS</td></tr>",
                            "<tr><td>15</td><td>2022-02-10 19:01:00.000</td><td>223344</td><td>A34882</td><td>10</td><td>15</td><td>fedEX</td></tr>",
                            "<tr><td>16</td><td>2022-02-10 19:53:00.000</td><td>223344</td><td>B67123</td><td>10</td><td>13</td><td>UPS</td></tr>",
                            "<tr><td>17</td><td>2022-02-12 20:21:00.000</td><td>223344</td><td>A34882</td><td>10</td><td>20</td><td>UPS</td></tr>",
                            "<tr><td>18</td><td>2022-02-16 20:23:00.000</td><td>445511</td><td>C34122</td><td>10</td><td>3</td><td>FeDEX</td></tr>",
                            "<tr><td>19</td><td>2022-03-02 20:24:00.000</td><td>651222</td><td>A34665</td><td>10</td><td>2</td><td>UPS</td></tr>",
                            "<tr><td>20</td><td>2022-03-04 20:25:00.000</td><td>651222</td><td>A34665</td><td>10</td><td>3</td><td>UPS</td></tr>",
                            "<tr><td>21</td><td>2022-03-02 20:24:00.000</td><td>651222</td><td>A34882</td><td>10</td><td>5</td><td>UPS</td></tr>",
                            "<tr><td>22</td><td>2022-03-05 17:33:00.000</td><td>651222</td><td>A34882</td><td>10</td><td>7</td><td>FedEX</td></tr>",
                            "<tr><td>23</td><td>2022-03-06 16:00:00.000</td><td>651222</td><td>B78244</td><td>20</td><td>21</td><td>ups</td></tr>",
                            "<tr><td>24</td><td>2022-03-19 12:33:00.000</td><td>651222</td><td>A34882</td><td>10</td><td>1</td><td>UPS</td></tr>",
                            "<tr><td>25</td><td>2022-02-10 16:00:00.000</td><td>300221</td><td>A34665</td><td>10</td><td>1</td><td>UPS</td></tr>",
                            "<tr><td>26</td><td>2022-02-05 08:00:00.000</td><td>300221</td><td>A23771</td><td>20</td><td>1</td><td>Ups</td></tr>",
                            "<tr><td>27</td><td>2022-02-12 08:45:00.000</td><td>300221</td><td>A34882</td><td>10</td><td>1</td><td>UPs</td></tr>",
                            "<tr><td>28</td><td>2022-02-20 10:04:00.000</td><td>300221</td><td>B67123</td><td>10</td><td>1</td><td>UpS</td></tr>",
                            "<tr><td>29</td><td>2022-02-05 10:11:00.000</td><td>300221</td><td>B78244</td><td>20</td><td>1</td><td>UPS</td></tr>",
                            "<tr><td>30</td><td>2022-01-23 18:33:00.000</td><td>892211</td><td>C34122</td><td>20</td><td>3</td><td>UPS</td></tr>",
                            "<tr><td>31</td><td>2022-01-23 19:11:00.000</td><td>892211</td><td>C34122</td><td>10</td><td>2</td><td>UPS</td></tr>",
                            "<tr><td>32</td><td>2022-01-23 19:32:00.000</td><td>892211</td><td>C29179</td><td>10</td><td>6</td><td>UPS</td></tr>",
                            "<tr><td>33</td><td>2022-01-27 20:43:00.000</td><td>450137</td><td>B67123</td><td>40</td><td>4</td><td>ups</td></tr>",
                            "<tr><td>34</td><td>2022-01-27 18:23:00.000</td><td>450137</td><td>B67123</td><td>20</td><td>3</td><td>UPS</td></tr>",
                            "<tr><td>35</td><td>2022-01-27 14:51:00.000</td><td>450137</td><td>B67123</td><td>30</td><td>14</td><td>Ups</td></tr>",
                            "<tr><td>36</td><td>2022-01-19 15:21:00.000</td><td>450137</td><td>B67123</td><td>20</td><td>8</td><td>ups</td></tr>",
                            "<tr><td>37</td><td>2022-02-21 15:22:00.000</td><td>450137</td><td>A34665</td><td>10</td><td>10</td><td>FeDeX</td></tr>",
                            "<tr><td>38</td><td>2022-03-02 13:44:00.000</td><td>450137</td><td>A34882</td><td>30</td><td>15</td><td>UpS</td></tr>",
                            "<tr><td>39</td><td>2022-02-19 09:00:00.000</td><td>200335</td><td>A23441</td><td>20</td><td>6</td><td>UPS</td></tr>",
                            "<tr><td>40</td><td>2022-02-19 09:00:00.000</td><td>781206</td><td>B67466</td><td>30</td><td>4</td><td>Amazon Freight</td></tr>",
                            "<tr><td>41</td><td>2022-02-21 09:56:00.000</td><td>200335</td><td>B67466</td><td>10</td><td>1</td><td>Amazon Freight</td></tr>",
                            "<tr><td>42</td><td>2022-02-22 10:13:00.000</td><td>223344</td><td>B67123</td><td>10</td><td>12</td><td>UPS</td></tr>",
                            "<tr><td>43</td><td>2022-02-22 11:13:00.000</td><td>892211</td><td>C29179</td><td>10</td><td>4</td><td>UPS</td></tr>",
                            "<tr><td>44</td><td>2022-02-22 11:15:00.000</td><td>651222</td><td>A34882</td><td>30</td><td>2</td><td>UPS</td></tr>",
                            "<tr><td>45</td><td>2022-03-01 11:19:00.000</td><td>651222</td><td>A34882</td><td>30</td><td>1</td><td>UPS</td></tr>",
                            "<tr><td>46</td><td>2022-02-28 12:01:00.000</td><td>651222</td><td>A34882</td><td>30</td><td>1</td><td>UPS</td></tr>",
                            "<tr><td>47</td><td>2022-03-01 13:35:00.000</td><td>223344</td><td>A23771</td><td>30</td><td>30</td><td>UPS</td></tr>",
                            "<tr><td>48</td><td>2022-03-01 14:02:00.000</td><td>450137</td><td>B67466</td><td>20</td><td>9</td><td>FedEx</td></tr>",
                            "<tr><td>49</td><td>2022-03-15 08:11:00.000</td><td>828211</td><td>A89437</td><td>10</td><td>6</td><td>UPS</td></tr>",
                            "<tr><td>50</td><td>2022-03-17 14:25:00.000</td><td>828211</td><td>A25698</td><td>10</td><td>1</td><td>UPS</td></tr>",
                            "<tr><td>51</td><td>2022-03-14 00:00:00.000</td><td>381921</td><td>C29179</td><td>10</td><td>10</td><td>USps</td></tr>",
                            "<tr><td>52</td><td>2022-03-15 00:00:00.000</td><td>381921</td><td>C29179</td><td>20</td><td>4</td><td>UPS</td></tr>",
                            "<tr><td>53</td><td>2022-03-14 00:00:00.000</td><td>381921</td><td>C38141</td><td>10</td><td>1</td><td>USps</td></tr>",
                            "</table>"
                        ]
                    }
                },
                {
                    "output_type": "execute_result",
                    "metadata": {},
                    "execution_count": 41,
                    "data": {
                        "application/vnd.dataresource+json": {
                            "schema": {
                                "fields": [
                                    {
                                        "name": "ReviewID"
                                    },
                                    {
                                        "name": "ReviewDate"
                                    },
                                    {
                                        "name": "Rating"
                                    },
                                    {
                                        "name": "ReviewText"
                                    },
                                    {
                                        "name": "OrderID"
                                    },
                                    {
                                        "name": "ItemID"
                                    }
                                ]
                            },
                            "data": [
                                {
                                    "0": "1",
                                    "1": "2022-02-12 09:16:00.000",
                                    "2": "1",
                                    "3": "This is the worst company I've ever dealt with.  They still have not shipped my order and it was placed on January 26.  I will never buy anything from them again. Ever.",
                                    "4": "200335",
                                    "5": "A34665"
                                },
                                {
                                    "0": "2",
                                    "1": "2022-02-14 10:15:00.000",
                                    "2": "1",
                                    "3": "I don't know how this company stays in business. They can't ship anything on time, and their game selection isn't all that great",
                                    "4": "450137",
                                    "5": "C34122"
                                },
                                {
                                    "0": "3",
                                    "1": "2022-02-18 23:16:00.000",
                                    "2": "5",
                                    "3": "Shipping was fast, the game was in great shape, and I will order from them again.  Highly recommend",
                                    "4": "300221",
                                    "5": "A23771"
                                },
                                {
                                    "0": "4",
                                    "1": "2022-02-16 02:45:00.000",
                                    "2": "4",
                                    "3": "This is one of the few companies that will ship internationally fairly cost effectively. They are slow, but at least shipping isn't a ridiculous amount.",
                                    "4": "223344",
                                    "5": "A23771"
                                },
                                {
                                    "0": "5",
                                    "1": "2022-01-15 00:51:00.000",
                                    "2": "3",
                                    "3": "They are slow. They overship.  They undership. They have the best shipping prices internationally, but nothing spectacular if you are shipping to the U.S. Buyer beware.",
                                    "4": "445511",
                                    "5": "C34122"
                                },
                                {
                                    "0": "6",
                                    "1": "2022-03-06 08:16:00.000",
                                    "2": "5",
                                    "3": "Shipping internationally is the best because they are inexpensive and prompt.  I love them.",
                                    "4": "892211",
                                    "5": "C29179"
                                },
                                {
                                    "0": "7",
                                    "1": "2022-03-06 10:15:00.000",
                                    "2": "4",
                                    "3": "I really like the game - it worked well for our organizational retreat.",
                                    "4": "892211",
                                    "5": "C26133"
                                },
                                {
                                    "0": "8",
                                    "1": "2022-02-28 18:22:00.000",
                                    "2": "5",
                                    "3": "I think this is one of the best games out there to help organizations learn how to work together.",
                                    "4": "450137",
                                    "5": "C34122"
                                },
                                {
                                    "0": "9",
                                    "1": "2022-03-16 16:44:00.000",
                                    "2": "4",
                                    "3": "They offer a unique variety of puzzles and at this site. Very different than games offered in other stores.",
                                    "4": "421988",
                                    "5": "B67466"
                                },
                                {
                                    "0": "10",
                                    "1": "2022-03-28 08:00:00.000",
                                    "2": "2",
                                    "3": "I love the games, but I hate the customer service.  They never answer the phone or return emails.",
                                    "4": "980001",
                                    "5": "C29179"
                                },
                                {
                                    "0": "11",
                                    "1": "2022-03-16 09:00:00.000",
                                    "2": "2",
                                    "3": "They didn't ship to the correct location so I had to contact the company many times. Poor communication.",
                                    "4": "980001",
                                    "5": "C34122"
                                },
                                {
                                    "0": "12",
                                    "1": "2022-03-24 21:34:00.000",
                                    "2": "5",
                                    "3": "Unlike other reviewers, I'm happy with the customer service and the games",
                                    "4": "671100",
                                    "5": "C29179"
                                },
                                {
                                    "0": "13",
                                    "1": "2022-03-22 23:59:00.000",
                                    "2": "2",
                                    "3": "Waiting and waiting and waiting for my games.  Will they ever get delivered???",
                                    "4": "983983",
                                    "5": "B78244"
                                }
                            ]
                        },
                        "text/html": [
                            "<table>",
                            "<tr><th>ReviewID</th><th>ReviewDate</th><th>Rating</th><th>ReviewText</th><th>OrderID</th><th>ItemID</th></tr>",
                            "<tr><td>1</td><td>2022-02-12 09:16:00.000</td><td>1</td><td>This is the worst company I've ever dealt with.  They still have not shipped my order and it was placed on January 26.  I will never buy anything from them again. Ever.</td><td>200335</td><td>A34665</td></tr>",
                            "<tr><td>2</td><td>2022-02-14 10:15:00.000</td><td>1</td><td>I don't know how this company stays in business. They can't ship anything on time, and their game selection isn't all that great</td><td>450137</td><td>C34122</td></tr>",
                            "<tr><td>3</td><td>2022-02-18 23:16:00.000</td><td>5</td><td>Shipping was fast, the game was in great shape, and I will order from them again.  Highly recommend</td><td>300221</td><td>A23771</td></tr>",
                            "<tr><td>4</td><td>2022-02-16 02:45:00.000</td><td>4</td><td>This is one of the few companies that will ship internationally fairly cost effectively. They are slow, but at least shipping isn't a ridiculous amount.</td><td>223344</td><td>A23771</td></tr>",
                            "<tr><td>5</td><td>2022-01-15 00:51:00.000</td><td>3</td><td>They are slow. They overship.  They undership. They have the best shipping prices internationally, but nothing spectacular if you are shipping to the U.S. Buyer beware.</td><td>445511</td><td>C34122</td></tr>",
                            "<tr><td>6</td><td>2022-03-06 08:16:00.000</td><td>5</td><td>Shipping internationally is the best because they are inexpensive and prompt.  I love them.</td><td>892211</td><td>C29179</td></tr>",
                            "<tr><td>7</td><td>2022-03-06 10:15:00.000</td><td>4</td><td>I really like the game - it worked well for our organizational retreat.</td><td>892211</td><td>C26133</td></tr>",
                            "<tr><td>8</td><td>2022-02-28 18:22:00.000</td><td>5</td><td>I think this is one of the best games out there to help organizations learn how to work together.</td><td>450137</td><td>C34122</td></tr>",
                            "<tr><td>9</td><td>2022-03-16 16:44:00.000</td><td>4</td><td>They offer a unique variety of puzzles and at this site. Very different than games offered in other stores.</td><td>421988</td><td>B67466</td></tr>",
                            "<tr><td>10</td><td>2022-03-28 08:00:00.000</td><td>2</td><td>I love the games, but I hate the customer service.  They never answer the phone or return emails.</td><td>980001</td><td>C29179</td></tr>",
                            "<tr><td>11</td><td>2022-03-16 09:00:00.000</td><td>2</td><td>They didn't ship to the correct location so I had to contact the company many times. Poor communication.</td><td>980001</td><td>C34122</td></tr>",
                            "<tr><td>12</td><td>2022-03-24 21:34:00.000</td><td>5</td><td>Unlike other reviewers, I'm happy with the customer service and the games</td><td>671100</td><td>C29179</td></tr>",
                            "<tr><td>13</td><td>2022-03-22 23:59:00.000</td><td>2</td><td>Waiting and waiting and waiting for my games.  Will they ever get delivered???</td><td>983983</td><td>B78244</td></tr>",
                            "</table>"
                        ]
                    }
                }
            ],
            "execution_count": 41
        }
    ]
}